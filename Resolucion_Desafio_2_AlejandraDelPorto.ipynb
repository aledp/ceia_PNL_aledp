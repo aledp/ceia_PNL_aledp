{
 "cells": [
  {
   "cell_type": "markdown",
   "metadata": {},
   "source": [
    "# Consigna del desafío 2"
   ]
  },
  {
   "cell_type": "markdown",
   "metadata": {},
   "source": [
    "- Elegir algún corpus de texto de su preferencia (conviene que sea algo de lo cual ustedes tengan algo de conocimiento al respecto para poder después interpretar la similaridades de embeddings que estudien). Puede ser literatura, texto técnico, blogs, artículos, etc...\n",
    "\n",
    "- Entrenar embeddings con el  corpus elegido utilizando Gensim. Pueden intentar modificar varios parámetros: tipo de modelo (cbow/skipgram), tamaño de vocabulario, tamaño de ventana de contexto, negative samples (que trataremos de hablar algo porque no hubo tiempo la vez pasada).\n",
    "\n",
    "- Con alguna de versión de embeddigns que hayan entrenado (o con todas!) estudiar similaridades de términos que crean interesantes. Graficarlos en 2D y si quieren en 3D y destacar casos interesantes para su corpus. Interpretarlos del conocimiento a priori que tengan del corpus."
   ]
  },
  {
   "cell_type": "code",
   "execution_count": 2,
   "metadata": {},
   "outputs": [],
   "source": [
    "import pandas as pd\n",
    "import keras.preprocessing.text\n",
    "from keras.preprocessing.text import text_to_word_sequence\n",
    "import string\n",
    "from nltk.corpus import stopwords\n",
    "from gensim.models.callbacks import CallbackAny2Vec\n",
    "\n",
    "from gensim.models import Word2Vec\n",
    "import multiprocessing\n",
    "\n",
    "from time import time  # To time our operations\n",
    "\n",
    "from sklearn.decomposition import IncrementalPCA    \n",
    "from sklearn.manifold import TSNE                   \n",
    "import numpy as np   \n",
    "\n",
    "import plotly.graph_objects as go\n",
    "import plotly.express as px\n"
   ]
  },
  {
   "cell_type": "markdown",
   "metadata": {},
   "source": [
    "Corpus: letras de canciones de Natalia Lafourcade"
   ]
  },
  {
   "cell_type": "code",
   "execution_count": 3,
   "metadata": {},
   "outputs": [],
   "source": [
    "# ruta del archivo Excel\n",
    "ruta_archivo = '.\\desafio 2\\letrasNataliaLaforucadeVersos.xlsx'\n",
    "\n",
    "# Lee el archivo Excel en un DataFrame de pandas\n",
    "versos = pd.read_excel(ruta_archivo)"
   ]
  },
  {
   "cell_type": "code",
   "execution_count": 4,
   "metadata": {},
   "outputs": [
    {
     "data": {
      "text/plain": [
       "378"
      ]
     },
     "execution_count": 4,
     "metadata": {},
     "output_type": "execute_result"
    }
   ],
   "source": [
    "len(versos)"
   ]
  },
  {
   "cell_type": "code",
   "execution_count": 5,
   "metadata": {},
   "outputs": [
    {
     "data": {
      "text/html": [
       "<div>\n",
       "<style scoped>\n",
       "    .dataframe tbody tr th:only-of-type {\n",
       "        vertical-align: middle;\n",
       "    }\n",
       "\n",
       "    .dataframe tbody tr th {\n",
       "        vertical-align: top;\n",
       "    }\n",
       "\n",
       "    .dataframe thead th {\n",
       "        text-align: right;\n",
       "    }\n",
       "</style>\n",
       "<table border=\"1\" class=\"dataframe\">\n",
       "  <thead>\n",
       "    <tr style=\"text-align: right;\">\n",
       "      <th></th>\n",
       "      <th>Versos</th>\n",
       "    </tr>\n",
       "  </thead>\n",
       "  <tbody>\n",
       "    <tr>\n",
       "      <th>0</th>\n",
       "      <td>\"¿Para qué sufrir si no hace falta?</td>\n",
       "    </tr>\n",
       "    <tr>\n",
       "      <th>1</th>\n",
       "      <td>\"Busco destellos de luces que puedan haceme vo...</td>\n",
       "    </tr>\n",
       "    <tr>\n",
       "      <th>2</th>\n",
       "      <td>\"En el 2000</td>\n",
       "    </tr>\n",
       "    <tr>\n",
       "      <th>3</th>\n",
       "      <td>\"En mi tierra veracruzana</td>\n",
       "    </tr>\n",
       "    <tr>\n",
       "      <th>4</th>\n",
       "      <td>\"Esta historia terminó no existe</td>\n",
       "    </tr>\n",
       "    <tr>\n",
       "      <th>5</th>\n",
       "      <td>\"Ha pasado tanto tiempo</td>\n",
       "    </tr>\n",
       "    <tr>\n",
       "      <th>6</th>\n",
       "      <td>\"Me llaman la malquerida</td>\n",
       "    </tr>\n",
       "    <tr>\n",
       "      <th>7</th>\n",
       "      <td>\"No sé que tienen las flores, llorona</td>\n",
       "    </tr>\n",
       "    <tr>\n",
       "      <th>8</th>\n",
       "      <td>\"Nunca es suficiente para mí</td>\n",
       "    </tr>\n",
       "    <tr>\n",
       "      <th>9</th>\n",
       "      <td>\"Poniendo la mano sobre el corazón</td>\n",
       "    </tr>\n",
       "    <tr>\n",
       "      <th>10</th>\n",
       "      <td>\"Que se quede el infinito sin estrellas,</td>\n",
       "    </tr>\n",
       "    <tr>\n",
       "      <th>11</th>\n",
       "      <td>\"Quiero regalarte las estrellas</td>\n",
       "    </tr>\n",
       "    <tr>\n",
       "      <th>12</th>\n",
       "      <td>\"Soy ese vicio de tu piel, que ya no puedes de...</td>\n",
       "    </tr>\n",
       "    <tr>\n",
       "      <th>13</th>\n",
       "      <td>\"Tú me acostumbraste</td>\n",
       "    </tr>\n",
       "    <tr>\n",
       "      <th>14</th>\n",
       "      <td>\"Un juramento que fue promesa fugitiva</td>\n",
       "    </tr>\n",
       "    <tr>\n",
       "      <th>15</th>\n",
       "      <td>¡Ay de mi, ay de mi, ay de mi, llorona!</td>\n",
       "    </tr>\n",
       "    <tr>\n",
       "      <th>16</th>\n",
       "      <td>¡Ay de mi, ay de mi, ay de mi, llorona!\"</td>\n",
       "    </tr>\n",
       "    <tr>\n",
       "      <th>17</th>\n",
       "      <td>¡Ay! No te vayas, quédate por siempre (quererm...</td>\n",
       "    </tr>\n",
       "    <tr>\n",
       "      <th>18</th>\n",
       "      <td>¿Cómo evitar que se fracture en mil?</td>\n",
       "    </tr>\n",
       "    <tr>\n",
       "      <th>19</th>\n",
       "      <td>¿Para qué dejar que todo muera?</td>\n",
       "    </tr>\n",
       "  </tbody>\n",
       "</table>\n",
       "</div>"
      ],
      "text/plain": [
       "                                               Versos\n",
       "0                 \"¿Para qué sufrir si no hace falta?\n",
       "1   \"Busco destellos de luces que puedan haceme vo...\n",
       "2                                         \"En el 2000\n",
       "3                           \"En mi tierra veracruzana\n",
       "4                    \"Esta historia terminó no existe\n",
       "5                             \"Ha pasado tanto tiempo\n",
       "6                            \"Me llaman la malquerida\n",
       "7               \"No sé que tienen las flores, llorona\n",
       "8                        \"Nunca es suficiente para mí\n",
       "9                  \"Poniendo la mano sobre el corazón\n",
       "10           \"Que se quede el infinito sin estrellas,\n",
       "11                    \"Quiero regalarte las estrellas\n",
       "12  \"Soy ese vicio de tu piel, que ya no puedes de...\n",
       "13                               \"Tú me acostumbraste\n",
       "14             \"Un juramento que fue promesa fugitiva\n",
       "15            ¡Ay de mi, ay de mi, ay de mi, llorona!\n",
       "16           ¡Ay de mi, ay de mi, ay de mi, llorona!\"\n",
       "17  ¡Ay! No te vayas, quédate por siempre (quererm...\n",
       "18               ¿Cómo evitar que se fracture en mil?\n",
       "19                    ¿Para qué dejar que todo muera?"
      ]
     },
     "execution_count": 5,
     "metadata": {},
     "output_type": "execute_result"
    }
   ],
   "source": [
    "versos.head(20)"
   ]
  },
  {
   "cell_type": "markdown",
   "metadata": {},
   "source": [
    "### Preprocesamiento"
   ]
  },
  {
   "cell_type": "code",
   "execution_count": 6,
   "metadata": {},
   "outputs": [],
   "source": [
    "\n",
    "sentence_tokens = []\n",
    "# Recorrer todas las filas y transformar las oraciones\n",
    "# en una secuencia de palabras (esto podría realizarse con NLTK o spaCy también)\n",
    "for _, row in versos[:None].iterrows():\n",
    "    sentence_tokens.append(text_to_word_sequence(row[0]))"
   ]
  },
  {
   "cell_type": "code",
   "execution_count": 7,
   "metadata": {},
   "outputs": [
    {
     "data": {
      "text/plain": [
       "[['¿para', 'qué', 'sufrir', 'si', 'no', 'hace', 'falta'],\n",
       " ['busco', 'destellos', 'de', 'luces', 'que', 'puedan', 'haceme', 'volver']]"
      ]
     },
     "execution_count": 7,
     "metadata": {},
     "output_type": "execute_result"
    }
   ],
   "source": [
    "# Demos un vistazo\n",
    "sentence_tokens[:2]"
   ]
  },
  {
   "cell_type": "code",
   "execution_count": 8,
   "metadata": {},
   "outputs": [
    {
     "name": "stdout",
     "output_type": "stream",
     "text": [
      "['¿para', 'sufrir', 'si', 'hace', 'falta']\n",
      "['busco', 'destellos', 'luces', 'puedan', 'haceme', 'volver']\n",
      "['2000']\n",
      "['tierra', 'veracruzana']\n",
      "['historia', 'terminó', 'existe']\n",
      "['pasado', 'tiempo']\n",
      "['llaman', 'malquerida']\n",
      "['sé', 'flores', 'llorona']\n",
      "['nunca', 'suficiente']\n",
      "['poniendo', 'mano', 'corazón']\n",
      "['quede', 'infinito', 'estrellas']\n",
      "['quiero', 'regalarte', 'estrellas']\n",
      "['vicio', 'piel', 'puedes', 'desprender']\n",
      "['acostumbraste']\n",
      "['juramento', 'promesa', 'fugitiva']\n",
      "['¡ay', 'ay', 'ay', 'llorona']\n",
      "['¡ay', 'ay', 'ay', 'llorona']\n",
      "['¡ay', 'vayas', 'quédate', 'siempre', 'quererme', 'gusta']\n",
      "['¿cómo', 'evitar', 'fracture', 'mil']\n",
      "['¿para', 'dejar', 'muera']\n",
      "['¿para', 'olvidar', 'besos']\n",
      "['¿para', 'ser', 'fríos', 'si', 'mundo', 'hace', 'sentir', 'casa']\n",
      "['¿para', 'sufrir', 'si', 'hace', 'falta']\n",
      "['¿para', 'tirar', 'cartas', 'fotografías']\n",
      "['continuar', 'camino', 'beso', 'da']\n",
      "['alma']\n",
      "['alma']\n",
      "['todas', 'cosas']\n",
      "['santo', 'cristo', 'fierro', 'llorona']\n",
      "['ver', 'ver', 'pasa', 'siguiente', 'día']\n",
      "['ver', 'ver', 'pasa', 'si', 'digo']\n",
      "['abre', 'cielo']\n",
      "['acostumbrado', 'amor']\n",
      "['ahora', 'corazón']\n",
      "['contrario', 'amé', 'alma']\n",
      "['maltratado']\n",
      "['amor', 'amores']\n",
      "['amor']\n",
      "['andando', 'selvas', 'amando', 'sol']\n",
      "['ando', 'toda', 're', 'enamorada']\n",
      "['huir', 'analicemos', 'pasó']\n",
      "['aquí', 'quedo', 'ser', 'testigo', 'siempre', 'vida']\n",
      "['aquí', 'siempre', 'siempre']\n",
      "['aquí', 'sigues', 'dentro']\n",
      "['así', 'protejo']\n",
      "['aunque', 'haces', 'mal', 'quiero', 'aquí']\n",
      "['aunque', 'oculte', 'tras', 'montaña']\n",
      "['auque', 'pierda', 'arco', 'iris', 'belleza']\n",
      "['ay', 'llorona', 'llorona', 'llorona', 'campo', 'lirio']\n",
      "['ay', 'llorona', 'llorona', 'llorona', 'llévame', 'río']\n",
      "['ay', 'llorona', 'llorona', 'llorona', 'chunca']\n",
      "['ay', 'dolor']\n",
      "['azul', 'golfo', 'rojo', 'pasión']\n",
      "['busco', 'hombres', 'parís']\n",
      "['busco', 'rastros', 'huellas', 'bajo', 'ramas']\n",
      "['cada', 'día', 'sigo', 'sacando', 'espinas']\n",
      "['cada', 'momento', 'saber']\n",
      "['café', 'pan']\n",
      "['aquella', 'quedarme', 'amor']\n",
      "['aquella', 'quedarme', 'amor']\n",
      "['cómo', 'dividimos', 'lazos', 'saber']\n",
      "['paisajes', 'verde', 'limón']\n",
      "['tela', 'sagrada']\n",
      "['corazón', 'si', 'sabes', 'quererme', 'gusta']\n",
      "['corazón', 'sabes', 'quererme', 'gusta']\n",
      "['corazón', 'si', 'sabes', 'quererme', 'amor', 'quererme', 'gusta']\n",
      "['corazón', 'corazón', 'sabes', 'quererme', 'gusta']\n",
      "['corrí', 'pies', 'desnudos']\n",
      "['creciente', 'relación', 'caliente']\n",
      "['cuáles', 'penas', 'llorona']\n",
      "['pequeñita']\n",
      "['escriba', 'nombre']\n",
      "['quería']\n",
      "['mire', 'cielo']\n",
      "['dividirla', 'ser', 'racista']\n",
      "['penca', 'banana']\n",
      "['profundo', 'corazón']\n",
      "['mañana', 'solo', 'cantar']\n",
      "['verde', 'morena', 'piel']\n",
      "['derramando', 'va', 'llanto']\n",
      "['dueños', 'noche']\n",
      "['dueños', 'noche', 'quisimos', 'bien']\n",
      "['dueños', 'saber', 'cómo', 'perdimos']\n",
      "['sabe', 'amores', 'llorona']\n",
      "['cada', 'abrazo', 'das', 'sueñas', 'conmigo']\n",
      "['2000']\n",
      "['alma']\n",
      "['campo', 'enterrar', 'piernas']\n",
      "['arena', 'blanca', 'fondo', 'azul']\n",
      "['arena', 'solo', 'bailar']\n",
      "['forma', 'cruel', 'nube', 'gris', 'aparezcas']\n",
      "['noche', 'sigo', 'encendiendo', 'sueños']\n",
      "['tierra', 'veracruzana']\n",
      "['mundo', 'raro', 'aprendí']\n",
      "['barco', 'entregar', 'sueños']\n",
      "['historias', 'nunca', 'final']\n",
      "['abrazo', 'fuego', 'lento']\n",
      "['apuesta', 'largo', 'plazo']\n",
      "['consuelos']\n",
      "['incondicional']\n",
      "['incondicional', 'incondicional']\n",
      "['quiero']\n",
      "['tan', 'difícil', 'encontrar', 'amor']\n",
      "['historia', 'terminó', 'existe']\n",
      "['lejanía', 'hace', 'extrañarte']\n",
      "['temos', 'tan', 'absurdo', 'solo', 'impide', 'crecer']\n",
      "['duele', 'aunque', 'duele', 'solo']\n",
      "['finalmente', 'descubrí', 'besos']\n",
      "['finalmente', 'sé', 'dispuesta']\n",
      "['flores', 'ponen', 'contento']\n",
      "['solo']\n",
      "['hermanos', 'amigos', 'derechos']\n",
      "['locos', 'poder', 'volver']\n",
      "['gira', 'gira', 'derecha']\n",
      "['pasado', 'tiempo']\n",
      "['hoy', 'mañana', 'siempre', 'fin']\n",
      "['hu', 'hu', 'hu']\n",
      "['hu', 'hu', 'hu']\n",
      "['jugo', 'rosas', 'dios', 'regó', 'caminos']\n",
      "['junto']\n",
      "['casa', 'vimos', 'nacer', 'peces', 'dijeron', 'adiós']\n",
      "['cuerpo', 'extraño']\n",
      "['cuerpo', 'extraño']\n",
      "['entrega', 'papel', 'castigo']\n",
      "['fugitiva', 'sensación', 'beso', 'largo', 'huye']\n",
      "['fugitiva', 'sensación', 'beso', 'largo', 'escapó']\n",
      "['fugitiva', 'sensación', 'beso', 'largo', 'escapó']\n",
      "['fugitiva', 'sensación', 'beso', 'volver']\n",
      "['inconsciencia', 'sigue', 'atrapándome', 'rincón']\n",
      "['inconsciencia', 'sigueme', 'atrapándome', 'rincón']\n",
      "['inercia', 'sigue', 'empujándome', 'rincón']\n",
      "['infantil', 'criatura', 'inocencia', 'acabó', 'eh', 'eh', 'eh']\n",
      "['infantil', 'criatura', 'inocencia', 'acabó', 'inocencia', 'acabó']\n",
      "['infantil', 'criatura', 'inocencia', 'acabó', 'acabó']\n",
      "['guarda', 'bajo', 'vientre']\n",
      "['tantos', 'caminos']\n",
      "['semilla', 'vida']\n",
      "['labios', 'divinos', 'bese']\n",
      "['labios', 'divinos', 'bese']\n",
      "['aves', 'retan', 'poder']\n",
      "['flores', 'campo', 'santo']\n",
      "['mujeres', 'visten', 'gris']\n",
      "['noches', 'llenas', 'comer', 'grabando', 'canciones', 'amanecer']\n",
      "['libros', 'atrapen', 'final']\n",
      "['llenando', 'inquietud', 'corazón']\n",
      "['construimos', 'acabó']\n",
      "['construimos', 'construimos']\n",
      "['día', 'construimos', 'esfumado']\n",
      "['recortan']\n",
      "['suficiente', 'hacer', 'vuelva', 'suceder']\n",
      "['locos', 'poder', 'volver']\n",
      "['tirantes', 'transparentes']\n",
      "['martha', 'lombriz']\n",
      "['abierta', 'mente']\n",
      "['mataron', 'pensamientos']\n",
      "['abrazaste', 'defectos']\n",
      "['cortaron', 'cuchillos']\n",
      "['enredaste', 'mirada']\n",
      "['importas']\n",
      "['llaman', 'malquerida']\n",
      "['llaman', 'malquerida']\n",
      "['quitarán', 'quererte', 'llorona']\n",
      "['siento', 'tan', 'vacía']\n",
      "['ves', 'llorando']\n",
      "['amor', 'vayas', 'quédate', 'siempre']\n",
      "['corazón', 'estalla', 'dolor']\n",
      "['corazón', 'estalla', 'amor']\n",
      "['hermana', 'va', 'parir', 'célula']\n",
      "['tierra', 'veracruzana', 'quiero', 'querer']\n",
      "['tierra', 'veracruzana', 'quiero', 'ver']\n",
      "['tierra', 'veracruzana', 'quiero', 'querer']\n",
      "['mira', 'ojos', 'momento']\n",
      "['mire', 'pasado', 'sabrás', 'olvidado']\n",
      "['palabras', 'silenciaron']\n",
      "['penas', 'conté']\n",
      "['mujer', 'llegó', 'campo']\n",
      "['mujer', 'hija', 'tierra']\n",
      "['mutilando', 'así', 'sueños']\n",
      "['negro', 'cariñoso']\n",
      "['creas', 'perdimos']\n",
      "['creas', 'importante']\n",
      "['creas', 'valió', 'pena']\n",
      "['cambiado', 'sentir']\n",
      "['manera', 'rayo', 'luna']\n",
      "['día', 'pase', 'piense']\n",
      "['sabe', 'martirio']\n",
      "['sé', 'flores', 'llorona']\n",
      "['tan', 'inmensa', 'tristeza']\n",
      "['hombre', 'gael', 'garcía']\n",
      "['remedio', 'gran', 'amor']\n",
      "['remedio', 'remedio']\n",
      "['instinto', 'animal']\n",
      "['vuelve', 'locas']\n",
      "['nunca', 'suficiente']\n",
      "['nunca', 'imaginé', 'después', 'tiempo', 'acabaría', 'paredes']\n",
      "['nunca', 'imaginé', 'casaría', 'papeles']\n",
      "['nunca', 'supe', 'cómo', 'hacer', 'feliz', 'juro']\n",
      "['odiará', 'ser', 'humano']\n",
      "['oh', 'oh', 'oh']\n",
      "['oh', 'oh', 'oh', 'oh']\n",
      "['oscurecieron', 'sonrisas']\n",
      "['mirar', 'ojos']\n",
      "['ouh', 'oh', 'ouh', 'oh']\n",
      "['ouh', 'ooh', 'oh']\n",
      "['pa', 'ponerme', 'move', 'pie']\n",
      "['ayudarte', 'continuar', 'camino']\n",
      "['decirte', 'amor', 'amores']\n",
      "['limpiar', 'humo', 'sagrado', 'cada', 'recuerdo']\n",
      "['mirar', 'detalles', 'hacen', 'llorar', 'verdad']\n",
      "['siempre', 'amarnos']\n",
      "['siempre', 'siempre', 'amarte']\n",
      "['parece', 'llorando']\n",
      "['pareciera', 'fácil', 'dejarnos']\n",
      "['permite', 'pare', 'decirte', 'amor', 'amores']\n",
      "['decirme', 'feíta']\n",
      "['olvidarte', 'nunca']\n",
      "['negro', 'ojos', 'muera']\n",
      "['planeta']\n",
      "['fantasma', 'conmigo', 'caminando']\n",
      "['picante', 'sabroso']\n",
      "['pienso', 'cada', 'instante', 'sobrevivido', 'caminar']\n",
      "['pinto', 'melodías', 'paisajes']\n",
      "['poniendo', 'mano', 'corazón']\n",
      "['pregunto', 'ver', 'olvidaste']\n",
      "['favor', 'dejes', 'valiente', 'corresponderte']\n",
      "['haberme', 'hecho', 'llorar']\n",
      "['haberme', 'hecho', 'llorar']\n",
      "['enseñaste', 'cómo', 'vive']\n",
      "['enseñaste', 'cómo', 'vive']\n",
      "['apagó']\n",
      "['falsa', 'intimidad']\n",
      "['muero', 'frío']\n",
      "['miran']\n",
      "['miran']\n",
      "['miras']\n",
      "['siempre', 'quiero']\n",
      "['ando', 'cargando', 'bajo', 'piel']\n",
      "['aquí', 'quedo', 'heridas', 'bien', 'abiertas']\n",
      "['mueve', 'viento', 'llorona']\n",
      "['dio', 'tarde', 'transparencia', 'organdí']\n",
      "['dolor', 'da']\n",
      "['dolor', 'da']\n",
      "['santo', 'cristo', 'lloró']\n",
      "['sexo', 'vuelva', 'loco']\n",
      "['deja', 'mirar', 'criticar']\n",
      "['ves', 'nunca', 'así']\n",
      "['emborrache', 'viernes']\n",
      "['pasa', 'siguiente', 'día']\n",
      "['respiro', 'aire']\n",
      "['respiro', 'aire', 'respiras']\n",
      "['respiro', 'aire', 'respiro', 'aire']\n",
      "['ido', 'dejado']\n",
      "['quede', 'infinito', 'estrellas']\n",
      "['baboso']\n",
      "['maravillosas']\n",
      "['valiente', 'corresponderte', 'amor', 'quererme', 'gusta']\n",
      "['domina', 'querer']\n",
      "['cielo']\n",
      "['vida', 'quiero', 'nadie']\n",
      "['vayas']\n",
      "['vayas']\n",
      "['quiero', 'cantar', 'melodías', 'alivie', 'ser']\n",
      "['quiero', 'cantar', 'melodías', 'cure', 'ser']\n",
      "['quiero', 'detener', 'tiempo']\n",
      "['quiero', 'detener', 'viento']\n",
      "['quiero', 'reloj', 'lado', 'sentir', 'dejó', 'correr']\n",
      "['quiero', 'inventar', 'palabras']\n",
      "['quiero', 'detengas']\n",
      "['quiero', 'detengas', 'junto']\n",
      "['quiero', 'regalarte', 'campo']\n",
      "['quiero', 'regalarte', 'cielo']\n",
      "['quiero', 'regalarte', 'estrellas']\n",
      "['quiero', 'regalarte', 'jardín']\n",
      "['quiero', 'tantas', 'cosas', 'quiero']\n",
      "['quiero', 'ver', 'mueves']\n",
      "['quiero', 'ver', 'si', 'crece', 'quiero']\n",
      "['quiero', 'ver', 'si', 'llueve', 'solo']\n",
      "['quiero', 'quiero']\n",
      "['quisiera', 'cantarte', 'toda', 'canción']\n",
      "['quisiera', 'decirte', 'compás']\n",
      "['regálame', 'flores', 'esperanza']\n",
      "['rezo', 'día', 'encontrar', 'motivo', 'existir']\n",
      "['rezo', 'noche', 'versos', 'piden', 'regreses']\n",
      "['sangre', 'alma']\n",
      "['lleva', 'viento']\n",
      "['lleva', 'viento']\n",
      "['olvidó', 'manera', 'alerta', 'caminar']\n",
      "['si', 'aquello', 'hizo', 'ver', 'tan', 'bello']\n",
      "['si', 'casualidad']\n",
      "['si', 'quiero', 'quieres', 'llorona', 'quieres', 'quiera']\n",
      "['si', 'ven', 'ricky', 'martin', 'revistas']\n",
      "['si', 'dado', 'vida', 'llorona', '¿qué', 'quieres', '¿quieres']\n",
      "['voz']\n",
      "['voz', 'abre', 'cielo']\n",
      "['sigo', 'cruzando', 'ríos']\n",
      "['amor', 'enfría']\n",
      "['pueda', 'comentar']\n",
      "['sola', 'luna', 'entera']\n",
      "['solo', 'quedo', 'tarde', 'juramento']\n",
      "['solo', 'quiero', 'abrazar', 'mar']\n",
      "['solo', 'quiero', 'tomar', 'café']\n",
      "['solo', 'quiero', 'volverte', 'ver']\n",
      "['clave', 'exacta', 'tejido']\n",
      "['pecado', 'dio', 'nueva', 'ilusión', 'amor']\n",
      "['amor', 'negarás', 'salvar', 'dignidad']\n",
      "['beso', 'da', 'pueda', 'comentar']\n",
      "['nombre', 'jamás', 'aquí', 'pronunciarás']\n",
      "['flor', 'encendida', 'da', 'color', 'jardín', 'vida']\n",
      "['prohibido']\n",
      "['prohibido', 'fiebre', 'ser']\n",
      "['prohibido', 'noche', 'placer']\n",
      "['prohibido', 'aventura', 'llego']\n",
      "['prohibido', 'aventura', 'llegó', 'ayudarte']\n",
      "['sutil', 'llegaste', 'tentación']\n",
      "['tápame', 'reboso', 'llorona']\n",
      "['tápame', 'rebozo', 'llorona']\n",
      "['enredas', 'noches']\n",
      "['perderás', 'dentro', 'recuerdos']\n",
      "['dolor', 'pecho', 'podría', 'describir']\n",
      "['temor', 'cuerpo', 'alejó', 'sentir']\n",
      "['dejarlo', 'ser', 'invento', 'canción', 'atardecer']\n",
      "['buscarte', 'salvarme']\n",
      "['toda', 'gente']\n",
      "['todas', 'ilusiones', 'vagabundas', 'dejan', 'alcanzar']\n",
      "['dimos', 'vivimos']\n",
      "['dicen', 'negro', 'llorona']\n",
      "['cielo']\n",
      "['sabes', 'quererme', 'si', 'sabes', 'adorarme']\n",
      "['uh', 'uh', 'uh', 'uh', 'uh', 'uh', 'uh']\n",
      "['uh', 'uh', 'uh']\n",
      "['camino', 'largo', 'caminar']\n",
      "['cerebro', 'inteligente']\n",
      "['panorama', 'pincelada']\n",
      "['papel', 'letras', 'pinturas', 'dibujar']\n",
      "['pastel']\n",
      "['zonzas']\n",
      "['poquito', 'azúca', 'caña']\n",
      "['reloj', 'use', 'tiempo']\n",
      "['rosa', 'guayaba', 'uso', 'pal', 'amor']\n",
      "['toque', 'amarillo', 'pitaya', 'flor']\n",
      "['cereza']\n",
      "['hora', 'extra', 'respirar']\n",
      "['mirada', 'mentira']\n",
      "['tarde', 'suba', 'alta', 'loma']\n",
      "['ver', 'noche', 'hamaca']\n",
      "['violaron', 'pecho', 'hambriento']\n",
      "['volverte', 'ver']\n",
      "['voy', 'cambiar', 'voy', 'cambiar', 'estación']\n",
      "['voy', 'explorar', 'inviernos', 'interior']\n",
      "['ver', 'pasa', 'siguiente', 'día']\n",
      "['cada', 'segundo', 'incertidumbre']\n",
      "['cada', 'vez', 'noche', 'tibia']\n",
      "['cuáles', 'penas', 'llorona']\n",
      "['deprimida', 'ardida']\n",
      "['aroma', 'piel', 'quede', 'igual']\n",
      "['encuentre', 'campo', 'lleno', 'caña']\n",
      "['flores', 'perfume', 'color']\n",
      "['casa', 'pa', 'huevonear']\n",
      "['nadie']\n",
      "['nadie']\n",
      "['verás', 'ofrezco']\n",
      "['crezca', 'vas', 'aquí']\n",
      "['pierda', 'ancho', 'mar', 'inmensidad']\n",
      "['quiero', 'despertar']\n",
      "['si', 'fresas', 'ricos', 'pobres', 'mexicanos', 'panistas']\n",
      "['solamente']\n",
      "['enseñaste']\n",
      "['vas', 'jugando', 'enamorar']\n",
      "['¿qué', 'crees', '¿que', 'normal']\n",
      "['tonto', 'loco']\n",
      "['importa', 'piensan', 'demás']\n",
      "[]\n",
      "['aprendí', 'dejarte', 'ir']\n",
      "['aprendí', 'soltar', 'amores']\n",
      "['concebía', 'cómo', 'quería']\n",
      "['quisiera', 'hacerte', 'feliz']\n",
      "['chile', 'verde', 'llorona']\n",
      "['llevo', 'dentro', 'raíz']\n"
     ]
    }
   ],
   "source": [
    "tokens_filtrados = []\n",
    "for sentence in sentence_tokens:\n",
    "    tokens = [token.lower() for token in sentence]  # Convertir a minúsculas cada palabra de la oración\n",
    "    tokens_sin_puntuacion = [token for token in tokens if token not in string.punctuation]\n",
    "    tokens_filtrados.append([token for token in tokens_sin_puntuacion if token not in stopwords.words('spanish')])\n",
    "\n",
    "# Imprimir tokens filtrados\n",
    "for tokens in tokens_filtrados:\n",
    "    print(tokens)\n",
    "\n"
   ]
  },
  {
   "cell_type": "markdown",
   "metadata": {},
   "source": [
    "Crear los vectores (word2vec)"
   ]
  },
  {
   "cell_type": "markdown",
   "metadata": {},
   "source": [
    "### Entrenar embeddings con el  corpus elegido utilizando Gensim. "
   ]
  },
  {
   "cell_type": "code",
   "execution_count": 9,
   "metadata": {},
   "outputs": [],
   "source": [
    "\n",
    "# Durante el entrenamiento gensim por defecto no informa el \"loss\" en cada época\n",
    "# Sobrecargamos el callback para poder tener esta información\n",
    "class callback(CallbackAny2Vec):\n",
    "    \"\"\"\n",
    "    Callback to print loss after each epoch\n",
    "    \"\"\"\n",
    "    def __init__(self):\n",
    "        self.epoch = 0\n",
    "\n",
    "    def on_epoch_end(self, model):\n",
    "        loss = model.get_latest_training_loss()\n",
    "        if self.epoch == 0:\n",
    "            print('Loss after epoch {}: {}'.format(self.epoch, loss))\n",
    "        else:\n",
    "            print('Loss after epoch {}: {}'.format(self.epoch, loss- self.loss_previous_step))\n",
    "        self.epoch += 1\n",
    "        self.loss_previous_step = loss"
   ]
  },
  {
   "cell_type": "code",
   "execution_count": 10,
   "metadata": {},
   "outputs": [
    {
     "data": {
      "text/plain": [
       "8"
      ]
     },
     "execution_count": 10,
     "metadata": {},
     "output_type": "execute_result"
    }
   ],
   "source": [
    "cores = multiprocessing.cpu_count() # Cuenta la cantidad de nucleos en la compu\n",
    "cores"
   ]
  },
  {
   "cell_type": "code",
   "execution_count": 165,
   "metadata": {},
   "outputs": [],
   "source": [
    "# Crearmos el modelo generador de vectores\n",
    "# En este caso utilizaremos la estructura modelo Skipgram\n",
    "w2v_model = Word2Vec(min_count=2,    # frecuencia mínima de palabra para incluirla en el vocabulario\n",
    "                     window=10,       # cant de palabras antes y desp de la predicha\n",
    "                     vector_size=50,       # dimensionalidad de los vectores \n",
    "                     negative=3,    # cantidad de negative samples... 0 es no se usa\n",
    "                     workers= cores,      # si tienen más cores pueden cambiar este valor\n",
    "                     sg=1)           # modelo 0:CBOW  1:skipgram"
   ]
  },
  {
   "cell_type": "code",
   "execution_count": 166,
   "metadata": {},
   "outputs": [
    {
     "name": "stdout",
     "output_type": "stream",
     "text": [
      "Time to build vocab: 0.0001 mins\n"
     ]
    }
   ],
   "source": [
    "# Obtener el vocabulario con los tokens\n",
    "\n",
    "t = time()\n",
    "\n",
    "w2v_model.build_vocab(tokens_filtrados, progress_per=1)\n",
    "\n",
    "print('Time to build vocab: {} mins'.format(round((time() - t) / 60, 4)))"
   ]
  },
  {
   "cell_type": "code",
   "execution_count": 167,
   "metadata": {},
   "outputs": [
    {
     "name": "stdout",
     "output_type": "stream",
     "text": [
      "Cantidad de docs en el corpus: 378\n"
     ]
    }
   ],
   "source": [
    "# Cantidad de filas/docs encontradas en el corpus\n",
    "print(\"Cantidad de docs en el corpus:\", w2v_model.corpus_count)"
   ]
  },
  {
   "cell_type": "code",
   "execution_count": 168,
   "metadata": {},
   "outputs": [
    {
     "name": "stdout",
     "output_type": "stream",
     "text": [
      "Cantidad de words distintas en el corpus: 206\n"
     ]
    }
   ],
   "source": [
    "# Cantidad de words encontradas en el corpus\n",
    "print(\"Cantidad de words distintas en el corpus:\", len(w2v_model.wv.index_to_key))"
   ]
  },
  {
   "cell_type": "code",
   "execution_count": 169,
   "metadata": {},
   "outputs": [
    {
     "name": "stdout",
     "output_type": "stream",
     "text": [
      "Loss after epoch 0: 1450.8778076171875\n",
      "Loss after epoch 1: 1580.8238525390625\n",
      "Loss after epoch 2: 1368.27294921875\n",
      "Loss after epoch 3: 1261.4326171875\n",
      "Loss after epoch 4: 1520.87548828125\n",
      "Loss after epoch 5: 1466.10205078125\n",
      "Loss after epoch 6: 1550.9296875\n",
      "Loss after epoch 7: 1346.294921875\n",
      "Loss after epoch 8: 1359.73828125\n",
      "Loss after epoch 9: 1381.3671875\n",
      "Loss after epoch 10: 1510.8125\n",
      "Loss after epoch 11: 1458.4140625\n",
      "Loss after epoch 12: 1489.296875\n",
      "Loss after epoch 13: 1504.220703125\n",
      "Loss after epoch 14: 1535.47265625\n",
      "Loss after epoch 15: 1492.48828125\n",
      "Loss after epoch 16: 1536.244140625\n",
      "Loss after epoch 17: 1498.74609375\n",
      "Loss after epoch 18: 1562.978515625\n",
      "Loss after epoch 19: 1550.22265625\n",
      "Loss after epoch 20: 1338.771484375\n",
      "Loss after epoch 21: 1349.078125\n",
      "Loss after epoch 22: 1488.7890625\n",
      "Loss after epoch 23: 1497.7109375\n",
      "Loss after epoch 24: 1484.984375\n",
      "Loss after epoch 25: 1491.83984375\n",
      "Loss after epoch 26: 1459.953125\n",
      "Loss after epoch 27: 1308.8984375\n",
      "Loss after epoch 28: 1519.7109375\n",
      "Loss after epoch 29: 1530.5625\n"
     ]
    },
    {
     "name": "stdout",
     "output_type": "stream",
     "text": [
      "Loss after epoch 30: 1444.1875\n",
      "Loss after epoch 31: 1494.18359375\n",
      "Loss after epoch 32: 1467.796875\n",
      "Loss after epoch 33: 1357.65234375\n",
      "Loss after epoch 34: 1604.625\n",
      "Loss after epoch 35: 1474.5625\n",
      "Loss after epoch 36: 1547.171875\n",
      "Loss after epoch 37: 1446.875\n",
      "Loss after epoch 38: 1585.77734375\n",
      "Loss after epoch 39: 1519.72265625\n",
      "Loss after epoch 40: 1328.30859375\n",
      "Loss after epoch 41: 1416.6015625\n",
      "Loss after epoch 42: 1469.3984375\n",
      "Loss after epoch 43: 1437.67578125\n",
      "Loss after epoch 44: 1414.40234375\n",
      "Loss after epoch 45: 1541.3828125\n",
      "Loss after epoch 46: 1463.9765625\n",
      "Loss after epoch 47: 1497.4375\n",
      "Loss after epoch 48: 1517.234375\n",
      "Loss after epoch 49: 1370.125\n",
      "Loss after epoch 50: 1385.1171875\n",
      "Loss after epoch 51: 1493.3828125\n",
      "Loss after epoch 52: 1451.5859375\n",
      "Loss after epoch 53: 1507.3828125\n",
      "Loss after epoch 54: 1367.0078125\n",
      "Loss after epoch 55: 1448.640625\n",
      "Loss after epoch 56: 1513.4921875\n",
      "Loss after epoch 57: 1449.1796875\n",
      "Loss after epoch 58: 1477.1796875\n",
      "Loss after epoch 59: 1315.9296875\n",
      "Loss after epoch 60: 1385.4609375\n",
      "Loss after epoch 61: 1329.1328125\n",
      "Loss after epoch 62: 1417.0546875\n",
      "Loss after epoch 63: 1403.8125\n",
      "Loss after epoch 64: 1352.96875\n",
      "Loss after epoch 65: 1533.65625\n",
      "Loss after epoch 66: 1489.4296875\n",
      "Loss after epoch 67: 1372.828125\n",
      "Loss after epoch 68: 1530.2265625\n",
      "Loss after epoch 69: 1551.1015625\n",
      "Loss after epoch 70: 1222.3515625\n",
      "Loss after epoch 71: 1530.3125\n",
      "Loss after epoch 72: 1386.453125\n",
      "Loss after epoch 73: 1452.078125\n",
      "Loss after epoch 74: 1451.2734375\n",
      "Loss after epoch 75: 1588.078125\n",
      "Loss after epoch 76: 1278.5859375\n",
      "Loss after epoch 77: 1414.984375\n",
      "Loss after epoch 78: 1411.6796875\n",
      "Loss after epoch 79: 1290.640625\n",
      "Loss after epoch 80: 1328.109375\n",
      "Loss after epoch 81: 1299.1953125\n",
      "Loss after epoch 82: 1295.828125\n",
      "Loss after epoch 83: 1391.921875\n",
      "Loss after epoch 84: 1428.09375\n",
      "Loss after epoch 85: 1270.0859375\n",
      "Loss after epoch 86: 1461.703125\n",
      "Loss after epoch 87: 1408.4296875\n",
      "Loss after epoch 88: 1531.265625\n",
      "Loss after epoch 89: 1363.609375\n",
      "Loss after epoch 90: 1293.0234375\n",
      "Loss after epoch 91: 1294.84375\n",
      "Loss after epoch 92: 1278.78125\n",
      "Loss after epoch 93: 1421.859375\n",
      "Loss after epoch 94: 1120.171875\n",
      "Loss after epoch 95: 1442.234375\n",
      "Loss after epoch 96: 1267.28125\n",
      "Loss after epoch 97: 1347.5625\n",
      "Loss after epoch 98: 1322.546875\n",
      "Loss after epoch 99: 1450.9375\n"
     ]
    },
    {
     "data": {
      "text/plain": [
       "(47451, 117800)"
      ]
     },
     "execution_count": 169,
     "metadata": {},
     "output_type": "execute_result"
    }
   ],
   "source": [
    "# Entrenamos el modelo generador de vectores\n",
    "# Utilizamos nuestro callback\n",
    "w2v_model.train(tokens_filtrados,\n",
    "                 total_examples=w2v_model.corpus_count,\n",
    "                 epochs=100,\n",
    "                 compute_loss = True,\n",
    "                 callbacks=[callback()]\n",
    "                 )"
   ]
  },
  {
   "cell_type": "markdown",
   "metadata": {},
   "source": [
    "Realicé distintos entrenamientos cambiando los parámetros tanto del modelo como del entranamiento. \n",
    "\n",
    "**Resumen de resultados**:\n",
    "\n",
    "* Se probaron valores de **\"min_count\"** de 1, 5, 10 y 25.  Entre 1 y 2 no hubo diferencia alguna. Para valores mas grandes de \"min_count\" se observa que disminuye la cantidad de words distintas en el corpus y se pierden palabras que son significativas en las canciones.\n",
    "\n",
    "* **cantidad de épocas de entreanamiento**: el valor de la función de pérdida mejoró considereblemente entrenar con 100 epocas en lugar de 20. Esto se vió reflejado en la simulitud entre palabras, las palabras que pertenecen a un mismo verso tienen mayor similitud y en los gráficos se encuentran más cercanas.\n",
    "\n",
    "* **Windows size** si el tamaño es chico (2, por ejemplo) las palabras similares a una en particular son correctas. Pero en la visualización en 2D esas palabras se encuentran más alejadas respectos de otras. Probando distintos valores de este parámetro, concluyo que es mejor tomar valores mayores (por ejemplo 10, el que usé finalmente).\n",
    "\n",
    "* **negative words**: al aumentar este parámetro de 2 a 5 mejora la similitud entre palabras de un mismo verso y tambien mejora la no simulitud entre palabras que no pertenecen a mismo verso/contexto. Al probar con un valor de 10 la cantidad de palabras del corpus es cero.\n",
    "\n",
    "* **sg** (modelo 0:CBOW  1:skipgram). CBOW presentaba en algunos casos un buen entorno de palabras similares y en otros casos no. El valor de simulitud entre palabras de un mismo contexto fue menor que para el caso de skipgram. Considero mejor el uso de skipgram.\n",
    "\n",
    "**Detalle de resultados**: el detalle del cual surgen las conclusiones anteriores se encuentran en el archivo excel \"ceia_PNL_aledp\\desafio 2\\prueba de cambios en los parámetros\""
   ]
  },
  {
   "cell_type": "markdown",
   "metadata": {},
   "source": [
    "**Probando el modelo**"
   ]
  },
  {
   "cell_type": "code",
   "execution_count": 170,
   "metadata": {},
   "outputs": [
    {
     "name": "stdout",
     "output_type": "stream",
     "text": [
      "Algunas palabras en el vocabulario:\n",
      "['quiero', 'llorona', 'amor', 'si', 'ver', 'corazón', 'uh', 'oh', 'solo', 'siempre', 'ay', 'quererme', 'ser', 'nunca', 'día', 'aquí', 'noche', 'cada', 'hu', 'beso', 'acabó', 'cielo', 'campo', 'sabes', 'cómo', '¿para', 'gusta', 'tierra', 'flores', 'tiempo', 'veracruzana', 'vida', 'amores', 'regalarte', 'largo', 'prohibido', 'tan', 'fugitiva', 'dolor', 'alma', 'da', 'volver', 'pasa', 'construimos', 'sentir', 'vayas', 'sensación', 'inocencia', 'aire', 'respiro', 'piel', 'viento', 'hace', 'estrellas', 'penas', 'sigo', 'camino', 'voy', 'bajo', 'verde', 'cuerpo', 'santo', 'poder', 'siguiente', 'infantil', 'aunque', 'así', 'incondicional', 'cantar', 'dentro', 'dueños', 'aprendí', 'sueños', 'busco', 'quedo', 'toda', 'rincón', 'criatura', 'decirte', 'creas', 'quieres', 'remedio', 'malquerida', 'mirar', 'ouh', 'sé', 'llorar', 'quisiera', 'caminar', 'melodías', 'quede', 'enseñaste', 'suficiente', 'tarde', 'nadie', 'negro', '¡ay', 'saber', 'querer', 'ojos']\n"
     ]
    }
   ],
   "source": [
    "# Acceder al vocabulario del modelo Word2Vec\n",
    "vocabulario = w2v_model.wv.key_to_index\n",
    "\n",
    "# Obtener las palabras en el vocabulario\n",
    "palabras_vocabulario = list(vocabulario.keys())\n",
    "\n",
    "# Imprimir algunas palabras del vocabulario\n",
    "print(\"Algunas palabras en el vocabulario:\")\n",
    "print(palabras_vocabulario[:100])  # Cambia el número según tu preferencia\n",
    "\n"
   ]
  },
  {
   "cell_type": "code",
   "execution_count": 171,
   "metadata": {},
   "outputs": [],
   "source": [
    "palabra_seleccionada = \"fugitiva\""
   ]
  },
  {
   "cell_type": "code",
   "execution_count": 172,
   "metadata": {},
   "outputs": [
    {
     "data": {
      "text/plain": [
       "[('largo', 0.9763230085372925),\n",
       " ('beso', 0.9754489660263062),\n",
       " ('escapó', 0.972010612487793),\n",
       " ('sensación', 0.9627436995506287),\n",
       " ('volver', 0.9178304076194763),\n",
       " ('da', 0.906629204750061),\n",
       " ('camino', 0.8938575387001038),\n",
       " ('continuar', 0.8869964480400085),\n",
       " ('pueda', 0.8792226910591125),\n",
       " ('comentar', 0.8719149231910706)]"
      ]
     },
     "execution_count": 172,
     "metadata": {},
     "output_type": "execute_result"
    }
   ],
   "source": [
    "# Palabras que MÁS se relacionan con...:\n",
    "w2v_model.wv.most_similar(positive=[palabra_seleccionada], topn=10)"
   ]
  },
  {
   "cell_type": "code",
   "execution_count": 173,
   "metadata": {},
   "outputs": [
    {
     "data": {
      "text/plain": [
       "[('palabras', 0.3575252592563629),\n",
       " ('tápame', 0.3563496172428131),\n",
       " ('mirada', 0.27491769194602966),\n",
       " ('volverte', 0.24509941041469574),\n",
       " ('café', 0.2016032189130783),\n",
       " ('papel', 0.17130714654922485),\n",
       " ('caminos', 0.09682723134756088),\n",
       " ('alma', 0.047782640904188156),\n",
       " ('va', -0.06638617813587189),\n",
       " ('miran', -0.08557325601577759)]"
      ]
     },
     "execution_count": 173,
     "metadata": {},
     "output_type": "execute_result"
    }
   ],
   "source": [
    "# Palabras que MENOS se relacionan con...:\n",
    "w2v_model.wv.most_similar(negative=[palabra_seleccionada], topn=10)"
   ]
  },
  {
   "cell_type": "code",
   "execution_count": 174,
   "metadata": {},
   "outputs": [
    {
     "name": "stdout",
     "output_type": "stream",
     "text": [
      "[ 0.11383679 -0.11275113  0.02209377 -0.0798245   0.02637621 -0.05271168\n",
      "  0.03565951  0.24243245 -0.05911709 -0.02010958 -0.01541737  0.01672768\n",
      "  0.17911948  0.20974141 -0.00852341  0.02704439  0.1203318  -0.11581105\n",
      " -0.0258488  -0.07633945  0.19153339 -0.12160709  0.0730743  -0.13305292\n",
      "  0.0372206  -0.10824683 -0.00980114 -0.04838797 -0.01814201  0.01021408\n",
      "  0.03656271 -0.04118754  0.03884527 -0.00928695  0.01975765 -0.09162595\n",
      "  0.02049153  0.12159957  0.03370368 -0.01932064  0.2824305  -0.11490789\n",
      "  0.08113018  0.06949099  0.17316426 -0.09554408 -0.04861167 -0.11504174\n",
      "  0.16694072  0.10559682]\n"
     ]
    }
   ],
   "source": [
    "# el método `get_vector` permite obtener los vectores:\n",
    "vector_palabra_seleccionada = w2v_model.wv.get_vector(palabra_seleccionada)\n",
    "print(vector_palabra_seleccionada)"
   ]
  },
  {
   "cell_type": "code",
   "execution_count": 175,
   "metadata": {},
   "outputs": [
    {
     "data": {
      "text/plain": [
       "[('fugitiva', 0.9999999403953552),\n",
       " ('largo', 0.9763230085372925),\n",
       " ('beso', 0.9754489660263062),\n",
       " ('escapó', 0.972010612487793),\n",
       " ('sensación', 0.9627436995506287),\n",
       " ('volver', 0.9178304076194763),\n",
       " ('da', 0.906629204750061),\n",
       " ('camino', 0.893857479095459),\n",
       " ('continuar', 0.8869963884353638),\n",
       " ('pueda', 0.8792226910591125)]"
      ]
     },
     "execution_count": 175,
     "metadata": {},
     "output_type": "execute_result"
    }
   ],
   "source": [
    "# el método `most_similar` también permite comparar a partir de vectores\n",
    "w2v_model.wv.most_similar(vector_palabra_seleccionada)"
   ]
  },
  {
   "cell_type": "markdown",
   "metadata": {},
   "source": [
    "### Visualizar agrupación de vectores"
   ]
  },
  {
   "cell_type": "code",
   "execution_count": 176,
   "metadata": {},
   "outputs": [],
   "source": [
    "                             \n",
    "def reduce_dimensions(model, num_dimensions = 2 ):\n",
    "     \n",
    "    vectors = np.asarray(model.wv.vectors)\n",
    "    labels = np.asarray(model.wv.index_to_key)  \n",
    "\n",
    "    tsne = TSNE(n_components=num_dimensions, random_state=0)\n",
    "    vectors = tsne.fit_transform(vectors)\n",
    "\n",
    "    return vectors, labels"
   ]
  },
  {
   "cell_type": "code",
   "execution_count": 177,
   "metadata": {},
   "outputs": [
    {
     "data": {
      "application/vnd.plotly.v1+json": {
       "config": {
        "plotlyServerURL": "https://plot.ly"
       },
       "data": [
        {
         "hovertemplate": "x=%{x}<br>y=%{y}<br>text=%{text}<extra></extra>",
         "legendgroup": "",
         "marker": {
          "color": "#636efa",
          "symbol": "circle"
         },
         "mode": "markers+text",
         "name": "",
         "orientation": "v",
         "showlegend": false,
         "text": [
          "quiero",
          "llorona",
          "amor",
          "si",
          "ver",
          "corazón",
          "uh",
          "oh",
          "solo",
          "siempre",
          "ay",
          "quererme",
          "ser",
          "nunca",
          "día",
          "aquí",
          "noche",
          "cada",
          "hu",
          "beso",
          "acabó",
          "cielo",
          "campo",
          "sabes",
          "cómo",
          "¿para",
          "gusta",
          "tierra",
          "flores",
          "tiempo",
          "veracruzana",
          "vida",
          "amores",
          "regalarte",
          "largo",
          "prohibido",
          "tan",
          "fugitiva",
          "dolor",
          "alma",
          "da",
          "volver",
          "pasa",
          "construimos",
          "sentir",
          "vayas",
          "sensación",
          "inocencia",
          "aire",
          "respiro",
          "piel",
          "viento",
          "hace",
          "estrellas",
          "penas",
          "sigo",
          "camino",
          "voy",
          "bajo",
          "verde",
          "cuerpo",
          "santo",
          "poder",
          "siguiente",
          "infantil",
          "aunque",
          "así",
          "incondicional",
          "cantar",
          "dentro",
          "dueños",
          "aprendí",
          "sueños",
          "busco",
          "quedo",
          "toda",
          "rincón",
          "criatura",
          "decirte",
          "creas",
          "quieres",
          "remedio",
          "malquerida",
          "mirar",
          "ouh",
          "sé",
          "llorar",
          "quisiera",
          "caminar",
          "melodías",
          "quede",
          "enseñaste",
          "suficiente",
          "tarde",
          "nadie",
          "negro",
          "¡ay",
          "saber",
          "querer",
          "ojos",
          "eh",
          "llaman",
          "pasado",
          "casa",
          "mano",
          "falta",
          "todas",
          "azul",
          "poniendo",
          "infinito",
          "sufrir",
          "continuar",
          "existe",
          "pierda",
          "quédate",
          "cosas",
          "cristo",
          "terminó",
          "historia",
          "besos",
          "muera",
          "juramento",
          "momento",
          "ando",
          "2000",
          "abre",
          "mundo",
          "vas",
          "café",
          "ayudarte",
          "dio",
          "miran",
          "vive",
          "hecho",
          "haberme",
          "corresponderte",
          "valiente",
          "pa",
          "detener",
          "feliz",
          "imaginé",
          "luna",
          "manera",
          "llegó",
          "mujer",
          "palabras",
          "loco",
          "reloj",
          "aquella",
          "mar",
          "caña",
          "pecho",
          "tápame",
          "aventura",
          "color",
          "flor",
          "volverte",
          "comentar",
          "detengas",
          "pueda",
          "voz",
          "¿qué",
          "lleva",
          "rezo",
          "canción",
          "jardín",
          "estalla",
          "llorando",
          "ves",
          "bien",
          "final",
          "gris",
          "arena",
          "cambiar",
          "abrazo",
          "sabe",
          "perdimos",
          "va",
          "mirada",
          "mañana",
          "mire",
          "quería",
          "nombre",
          "cuáles",
          "paisajes",
          "quedarme",
          "encontrar",
          "duele",
          "finalmente",
          "locos",
          "vuelva",
          "hacer",
          "noches",
          "bese",
          "divinos",
          "labios",
          "atrapándome",
          "sigue",
          "inconsciencia",
          "escapó",
          "papel",
          "extraño",
          "junto",
          "caminos",
          "gira",
          "conmigo"
         ],
         "type": "scatter",
         "x": [
          -7.730979919433594,
          -3.990684986114502,
          -8.281228065490723,
          -10.142889976501465,
          -4.19632625579834,
          -9.049646377563477,
          -4.001784324645996,
          6.883040428161621,
          -6.591618537902832,
          -2.335193634033203,
          2.7922563552856445,
          -9.325581550598145,
          -5.602342128753662,
          -4.945852756500244,
          -5.47110652923584,
          -2.2532413005828857,
          -0.01020468957722187,
          -0.9535132646560669,
          4.32008695602417,
          -10.926411628723145,
          -5.884581089019775,
          -0.48563113808631897,
          -0.1848672479391098,
          -8.97642993927002,
          -7.31818962097168,
          -10.631896018981934,
          -9.111488342285156,
          6.70158576965332,
          4.7238054275512695,
          -1.2586828470230103,
          8.013102531433105,
          -5.460419178009033,
          -0.13188612461090088,
          7.36920166015625,
          -10.47678279876709,
          -0.3777916133403778,
          6.243082523345947,
          -10.698657035827637,
          1.2513865232467651,
          9.286478996276855,
          -7.353829383850098,
          -6.1467814445495605,
          4.025632858276367,
          -1.2035104036331177,
          -4.296992778778076,
          -2.705338478088379,
          -10.920909881591797,
          -5.885982036590576,
          -5.917844295501709,
          -5.876855850219727,
          2.0554275512695312,
          2.5408616065979004,
          -10.89826488494873,
          -2.359408140182495,
          8.388202667236328,
          3.77831768989563,
          -7.59276008605957,
          -8.589325904846191,
          2.128355026245117,
          6.672289848327637,
          0.11925531923770905,
          2.117764949798584,
          1.0614745616912842,
          4.049123764038086,
          -5.885171890258789,
          -0.05723007023334503,
          3.836677074432373,
          3.8669216632843018,
          -1.2337357997894287,
          8.777470588684082,
          -5.576376438140869,
          3.84953236579895,
          6.8445725440979,
          5.08738374710083,
          -5.884620189666748,
          0.07750196754932404,
          -12.416460990905762,
          -5.884861946105957,
          5.994877815246582,
          7.175261974334717,
          1.453643798828125,
          4.227436542510986,
          2.104055404663086,
          5.599526405334473,
          6.887537002563477,
          8.162247657775879,
          -2.0211594104766846,
          -6.022123336791992,
          2.9128403663635254,
          -0.01717059686779976,
          -3.3823955059051514,
          -2.6767070293426514,
          3.3831381797790527,
          -1.998982310295105,
          10.059379577636719,
          5.0478410720825195,
          -2.3926544189453125,
          -3.3342485427856445,
          7.899890422821045,
          -2.495098829269409,
          -5.886963367462158,
          5.581058025360107,
          2.395258903503418,
          -4.219600677490234,
          2.0039355754852295,
          -10.79857063293457,
          6.089880466461182,
          7.684788227081299,
          -2.0788042545318604,
          -0.3743800222873688,
          -10.98487663269043,
          -6.663928031921387,
          -4.54449987411499,
          1.9057660102844238,
          -2.0041284561157227,
          8.74921703338623,
          5.344228744506836,
          -4.574603080749512,
          -4.545274257659912,
          1.9910160303115845,
          -0.0432804673910141,
          4.127429485321045,
          0.8540000319480896,
          -1.4920052289962769,
          8.867071151733398,
          1.172357439994812,
          -5.617979526519775,
          9.563417434692383,
          10.088010787963867,
          -8.389791488647461,
          7.728748321533203,
          10.301445960998535,
          -2.795358180999756,
          -2.198206901550293,
          -1.8333185911178589,
          -8.205024719238281,
          -3.5235342979431152,
          4.939188480377197,
          7.35568904876709,
          -2.833343029022217,
          6.361663341522217,
          4.810642242431641,
          2.8969063758850098,
          -8.547332763671875,
          1.105639934539795,
          8.930593490600586,
          5.029975414276123,
          4.925812721252441,
          -1.2735021114349365,
          9.25665283203125,
          7.974101543426514,
          10.159525871276855,
          10.120426177978516,
          -0.07823197543621063,
          -4.942266941070557,
          -4.519521236419678,
          9.213464736938477,
          -5.462644100189209,
          10.630868911743164,
          -4.771074295043945,
          4.103306293487549,
          6.888015270233154,
          6.061516284942627,
          2.9879047870635986,
          0.9556798934936523,
          -4.485073566436768,
          9.303692817687988,
          5.069825649261475,
          1.8345035314559937,
          3.7200124263763428,
          8.207395553588867,
          8.796770095825195,
          4.007325172424316,
          -8.594137191772461,
          3.03328013420105,
          9.393845558166504,
          -1.258405089378357,
          9.63317584991455,
          10.3558349609375,
          7.018960952758789,
          5.582810878753662,
          6.61614465713501,
          8.631535530090332,
          5.641981601715088,
          1.7183568477630615,
          -1.394126057624817,
          4.504841327667236,
          -6.972275257110596,
          2.0934178829193115,
          0.9014714360237122,
          -3.324781656265259,
          -3.6635172367095947,
          8.535839080810547,
          -7.418628215789795,
          -7.414896011352539,
          -7.4065656661987305,
          -12.437748908996582,
          -12.366286277770996,
          -12.402300834655762,
          -10.334098815917969,
          9.424755096435547,
          3.098641872406006,
          6.962972164154053,
          10.724087715148926,
          3.6113812923431396,
          5.681066989898682
         ],
         "xaxis": "x",
         "y": [
          5.246049880981445,
          5.518198013305664,
          4.04349422454834,
          4.92266321182251,
          3.885681629180908,
          1.7993539571762085,
          -3.567706823348999,
          -0.7565480470657349,
          3.1188840866088867,
          3.920769691467285,
          -8.89062213897705,
          1.9213660955429077,
          2.4143550395965576,
          3.1849067211151123,
          4.278288841247559,
          1.917796015739441,
          -0.9435595870018005,
          -1.6182531118392944,
          -2.548610210418701,
          8.74100112915039,
          12.753568649291992,
          -3.358652114868164,
          -0.28523778915405273,
          1.3225737810134888,
          4.474758148193359,
          5.1998114585876465,
          1.8889706134796143,
          -5.554803848266602,
          -5.554317474365234,
          0.4827250838279724,
          -7.344009876251221,
          5.346489906311035,
          -4.100923538208008,
          -8.449292182922363,
          8.606192588806152,
          1.9302164316177368,
          -12.223153114318848,
          8.669386863708496,
          -0.29295170307159424,
          -14.73805046081543,
          6.542881965637207,
          4.4850311279296875,
          1.3016440868377686,
          -5.57025146484375,
          1.4888737201690674,
          3.6891183853149414,
          8.758014678955078,
          12.751572608947754,
          -1.4853832721710205,
          -1.5346758365631104,
          -3.9303202629089355,
          -3.228916645050049,
          5.345118999481201,
          -0.11632880568504333,
          -9.065032005310059,
          -8.126531600952148,
          6.0590128898620605,
          10.591934204101562,
          -3.0437347888946533,
          -8.07968807220459,
          -0.0734202042222023,
          -1.0134193897247314,
          -2.547375202178955,
          1.3550759553909302,
          12.74560260772705,
          -7.4037089347839355,
          -6.81937313079834,
          -11.632240295410156,
          -2.5390264987945557,
          -13.291081428527832,
          3.46785044670105,
          -9.129518508911133,
          -7.0108323097229,
          -7.823808670043945,
          3.9146790504455566,
          -2.1460916996002197,
          3.1409707069396973,
          12.749513626098633,
          -6.992955684661865,
          -11.796930313110352,
          -8.909759521484375,
          -10.583999633789062,
          -5.773576736450195,
          -8.863420486450195,
          -0.7835034728050232,
          -10.663947105407715,
          6.796241283416748,
          2.967461347579956,
          -2.256930112838745,
          -2.1572513580322266,
          -2.8372418880462646,
          -0.6999819874763489,
          -5.881874084472656,
          1.495997667312622,
          -13.867870330810547,
          -7.640751838684082,
          3.0526466369628906,
          0.8098485469818115,
          -11.519343376159668,
          0.6517356634140015,
          12.757744789123535,
          -3.741034984588623,
          -4.432783603668213,
          0.13761356472969055,
          0.3598763346672058,
          5.219669342041016,
          -9.715008735656738,
          -10.916631698608398,
          -3.060380697250366,
          3.6661508083343506,
          5.244055271148682,
          5.922420978546143,
          9.042548179626465,
          -7.340413570404053,
          4.0221967697143555,
          -12.528828620910645,
          -5.735809803009033,
          9.054054260253906,
          9.035080909729004,
          -10.577717781066895,
          -2.776763916015625,
          -4.132814407348633,
          -4.1282548904418945,
          -1.6899213790893555,
          -14.027738571166992,
          -3.812854051589966,
          2.26202392578125,
          -13.872965812683105,
          -14.801615715026855,
          5.9944610595703125,
          -12.550548553466797,
          -14.998533248901367,
          -1.5589483976364136,
          6.772705554962158,
          6.820778846740723,
          3.1796209812164307,
          4.213439464569092,
          -12.929311752319336,
          -14.316662788391113,
          2.4940900802612305,
          -14.279401779174805,
          -7.853192329406738,
          -6.800804615020752,
          5.690755844116211,
          -5.576456546783447,
          -15.830095291137695,
          -8.856108665466309,
          -12.808815002441406,
          -4.2205424308776855,
          -11.592581748962402,
          -14.124849319458008,
          -12.723756790161133,
          -16.326669692993164,
          1.7923778295516968,
          5.461733341217041,
          5.075589179992676,
          -16.563493728637695,
          6.5186448097229,
          -13.329672813415527,
          6.414594650268555,
          -9.716279029846191,
          -9.623390197753906,
          -13.376228332519531,
          -7.271556377410889,
          -5.001585960388184,
          5.220644950866699,
          -10.11258316040039,
          -9.79646110534668,
          -2.0496981143951416,
          -4.3812737464904785,
          -15.134888648986816,
          -15.062154769897461,
          -7.960011959075928,
          10.591206550598145,
          -5.301960468292236,
          -13.088722229003906,
          -0.7808191180229187,
          -15.00794792175293,
          -15.698285102844238,
          -12.709006309509277,
          -10.873744010925293,
          -12.216865539550781,
          -13.618310928344727,
          -11.210341453552246,
          -7.469367504119873,
          1.7013378143310547,
          -6.709301471710205,
          2.533677339553833,
          -4.621260166168213,
          -1.3553972244262695,
          2.333425283432007,
          2.073540210723877,
          -14.22824764251709,
          8.451827049255371,
          8.510699272155762,
          8.452936172485352,
          3.113970994949341,
          3.084531307220459,
          3.1382131576538086,
          8.578534126281738,
          -15.579168319702148,
          -10.062748908996582,
          -11.110374450683594,
          -14.639915466308594,
          -0.7368612289428711,
          -8.06309986114502
         ],
         "yaxis": "y"
        }
       ],
       "layout": {
        "legend": {
         "tracegroupgap": 0
        },
        "margin": {
         "t": 60
        },
        "template": {
         "data": {
          "bar": [
           {
            "error_x": {
             "color": "#2a3f5f"
            },
            "error_y": {
             "color": "#2a3f5f"
            },
            "marker": {
             "line": {
              "color": "#E5ECF6",
              "width": 0.5
             },
             "pattern": {
              "fillmode": "overlay",
              "size": 10,
              "solidity": 0.2
             }
            },
            "type": "bar"
           }
          ],
          "barpolar": [
           {
            "marker": {
             "line": {
              "color": "#E5ECF6",
              "width": 0.5
             },
             "pattern": {
              "fillmode": "overlay",
              "size": 10,
              "solidity": 0.2
             }
            },
            "type": "barpolar"
           }
          ],
          "carpet": [
           {
            "aaxis": {
             "endlinecolor": "#2a3f5f",
             "gridcolor": "white",
             "linecolor": "white",
             "minorgridcolor": "white",
             "startlinecolor": "#2a3f5f"
            },
            "baxis": {
             "endlinecolor": "#2a3f5f",
             "gridcolor": "white",
             "linecolor": "white",
             "minorgridcolor": "white",
             "startlinecolor": "#2a3f5f"
            },
            "type": "carpet"
           }
          ],
          "choropleth": [
           {
            "colorbar": {
             "outlinewidth": 0,
             "ticks": ""
            },
            "type": "choropleth"
           }
          ],
          "contour": [
           {
            "colorbar": {
             "outlinewidth": 0,
             "ticks": ""
            },
            "colorscale": [
             [
              0,
              "#0d0887"
             ],
             [
              0.1111111111111111,
              "#46039f"
             ],
             [
              0.2222222222222222,
              "#7201a8"
             ],
             [
              0.3333333333333333,
              "#9c179e"
             ],
             [
              0.4444444444444444,
              "#bd3786"
             ],
             [
              0.5555555555555556,
              "#d8576b"
             ],
             [
              0.6666666666666666,
              "#ed7953"
             ],
             [
              0.7777777777777778,
              "#fb9f3a"
             ],
             [
              0.8888888888888888,
              "#fdca26"
             ],
             [
              1,
              "#f0f921"
             ]
            ],
            "type": "contour"
           }
          ],
          "contourcarpet": [
           {
            "colorbar": {
             "outlinewidth": 0,
             "ticks": ""
            },
            "type": "contourcarpet"
           }
          ],
          "heatmap": [
           {
            "colorbar": {
             "outlinewidth": 0,
             "ticks": ""
            },
            "colorscale": [
             [
              0,
              "#0d0887"
             ],
             [
              0.1111111111111111,
              "#46039f"
             ],
             [
              0.2222222222222222,
              "#7201a8"
             ],
             [
              0.3333333333333333,
              "#9c179e"
             ],
             [
              0.4444444444444444,
              "#bd3786"
             ],
             [
              0.5555555555555556,
              "#d8576b"
             ],
             [
              0.6666666666666666,
              "#ed7953"
             ],
             [
              0.7777777777777778,
              "#fb9f3a"
             ],
             [
              0.8888888888888888,
              "#fdca26"
             ],
             [
              1,
              "#f0f921"
             ]
            ],
            "type": "heatmap"
           }
          ],
          "heatmapgl": [
           {
            "colorbar": {
             "outlinewidth": 0,
             "ticks": ""
            },
            "colorscale": [
             [
              0,
              "#0d0887"
             ],
             [
              0.1111111111111111,
              "#46039f"
             ],
             [
              0.2222222222222222,
              "#7201a8"
             ],
             [
              0.3333333333333333,
              "#9c179e"
             ],
             [
              0.4444444444444444,
              "#bd3786"
             ],
             [
              0.5555555555555556,
              "#d8576b"
             ],
             [
              0.6666666666666666,
              "#ed7953"
             ],
             [
              0.7777777777777778,
              "#fb9f3a"
             ],
             [
              0.8888888888888888,
              "#fdca26"
             ],
             [
              1,
              "#f0f921"
             ]
            ],
            "type": "heatmapgl"
           }
          ],
          "histogram": [
           {
            "marker": {
             "pattern": {
              "fillmode": "overlay",
              "size": 10,
              "solidity": 0.2
             }
            },
            "type": "histogram"
           }
          ],
          "histogram2d": [
           {
            "colorbar": {
             "outlinewidth": 0,
             "ticks": ""
            },
            "colorscale": [
             [
              0,
              "#0d0887"
             ],
             [
              0.1111111111111111,
              "#46039f"
             ],
             [
              0.2222222222222222,
              "#7201a8"
             ],
             [
              0.3333333333333333,
              "#9c179e"
             ],
             [
              0.4444444444444444,
              "#bd3786"
             ],
             [
              0.5555555555555556,
              "#d8576b"
             ],
             [
              0.6666666666666666,
              "#ed7953"
             ],
             [
              0.7777777777777778,
              "#fb9f3a"
             ],
             [
              0.8888888888888888,
              "#fdca26"
             ],
             [
              1,
              "#f0f921"
             ]
            ],
            "type": "histogram2d"
           }
          ],
          "histogram2dcontour": [
           {
            "colorbar": {
             "outlinewidth": 0,
             "ticks": ""
            },
            "colorscale": [
             [
              0,
              "#0d0887"
             ],
             [
              0.1111111111111111,
              "#46039f"
             ],
             [
              0.2222222222222222,
              "#7201a8"
             ],
             [
              0.3333333333333333,
              "#9c179e"
             ],
             [
              0.4444444444444444,
              "#bd3786"
             ],
             [
              0.5555555555555556,
              "#d8576b"
             ],
             [
              0.6666666666666666,
              "#ed7953"
             ],
             [
              0.7777777777777778,
              "#fb9f3a"
             ],
             [
              0.8888888888888888,
              "#fdca26"
             ],
             [
              1,
              "#f0f921"
             ]
            ],
            "type": "histogram2dcontour"
           }
          ],
          "mesh3d": [
           {
            "colorbar": {
             "outlinewidth": 0,
             "ticks": ""
            },
            "type": "mesh3d"
           }
          ],
          "parcoords": [
           {
            "line": {
             "colorbar": {
              "outlinewidth": 0,
              "ticks": ""
             }
            },
            "type": "parcoords"
           }
          ],
          "pie": [
           {
            "automargin": true,
            "type": "pie"
           }
          ],
          "scatter": [
           {
            "fillpattern": {
             "fillmode": "overlay",
             "size": 10,
             "solidity": 0.2
            },
            "type": "scatter"
           }
          ],
          "scatter3d": [
           {
            "line": {
             "colorbar": {
              "outlinewidth": 0,
              "ticks": ""
             }
            },
            "marker": {
             "colorbar": {
              "outlinewidth": 0,
              "ticks": ""
             }
            },
            "type": "scatter3d"
           }
          ],
          "scattercarpet": [
           {
            "marker": {
             "colorbar": {
              "outlinewidth": 0,
              "ticks": ""
             }
            },
            "type": "scattercarpet"
           }
          ],
          "scattergeo": [
           {
            "marker": {
             "colorbar": {
              "outlinewidth": 0,
              "ticks": ""
             }
            },
            "type": "scattergeo"
           }
          ],
          "scattergl": [
           {
            "marker": {
             "colorbar": {
              "outlinewidth": 0,
              "ticks": ""
             }
            },
            "type": "scattergl"
           }
          ],
          "scattermapbox": [
           {
            "marker": {
             "colorbar": {
              "outlinewidth": 0,
              "ticks": ""
             }
            },
            "type": "scattermapbox"
           }
          ],
          "scatterpolar": [
           {
            "marker": {
             "colorbar": {
              "outlinewidth": 0,
              "ticks": ""
             }
            },
            "type": "scatterpolar"
           }
          ],
          "scatterpolargl": [
           {
            "marker": {
             "colorbar": {
              "outlinewidth": 0,
              "ticks": ""
             }
            },
            "type": "scatterpolargl"
           }
          ],
          "scatterternary": [
           {
            "marker": {
             "colorbar": {
              "outlinewidth": 0,
              "ticks": ""
             }
            },
            "type": "scatterternary"
           }
          ],
          "surface": [
           {
            "colorbar": {
             "outlinewidth": 0,
             "ticks": ""
            },
            "colorscale": [
             [
              0,
              "#0d0887"
             ],
             [
              0.1111111111111111,
              "#46039f"
             ],
             [
              0.2222222222222222,
              "#7201a8"
             ],
             [
              0.3333333333333333,
              "#9c179e"
             ],
             [
              0.4444444444444444,
              "#bd3786"
             ],
             [
              0.5555555555555556,
              "#d8576b"
             ],
             [
              0.6666666666666666,
              "#ed7953"
             ],
             [
              0.7777777777777778,
              "#fb9f3a"
             ],
             [
              0.8888888888888888,
              "#fdca26"
             ],
             [
              1,
              "#f0f921"
             ]
            ],
            "type": "surface"
           }
          ],
          "table": [
           {
            "cells": {
             "fill": {
              "color": "#EBF0F8"
             },
             "line": {
              "color": "white"
             }
            },
            "header": {
             "fill": {
              "color": "#C8D4E3"
             },
             "line": {
              "color": "white"
             }
            },
            "type": "table"
           }
          ]
         },
         "layout": {
          "annotationdefaults": {
           "arrowcolor": "#2a3f5f",
           "arrowhead": 0,
           "arrowwidth": 1
          },
          "autotypenumbers": "strict",
          "coloraxis": {
           "colorbar": {
            "outlinewidth": 0,
            "ticks": ""
           }
          },
          "colorscale": {
           "diverging": [
            [
             0,
             "#8e0152"
            ],
            [
             0.1,
             "#c51b7d"
            ],
            [
             0.2,
             "#de77ae"
            ],
            [
             0.3,
             "#f1b6da"
            ],
            [
             0.4,
             "#fde0ef"
            ],
            [
             0.5,
             "#f7f7f7"
            ],
            [
             0.6,
             "#e6f5d0"
            ],
            [
             0.7,
             "#b8e186"
            ],
            [
             0.8,
             "#7fbc41"
            ],
            [
             0.9,
             "#4d9221"
            ],
            [
             1,
             "#276419"
            ]
           ],
           "sequential": [
            [
             0,
             "#0d0887"
            ],
            [
             0.1111111111111111,
             "#46039f"
            ],
            [
             0.2222222222222222,
             "#7201a8"
            ],
            [
             0.3333333333333333,
             "#9c179e"
            ],
            [
             0.4444444444444444,
             "#bd3786"
            ],
            [
             0.5555555555555556,
             "#d8576b"
            ],
            [
             0.6666666666666666,
             "#ed7953"
            ],
            [
             0.7777777777777778,
             "#fb9f3a"
            ],
            [
             0.8888888888888888,
             "#fdca26"
            ],
            [
             1,
             "#f0f921"
            ]
           ],
           "sequentialminus": [
            [
             0,
             "#0d0887"
            ],
            [
             0.1111111111111111,
             "#46039f"
            ],
            [
             0.2222222222222222,
             "#7201a8"
            ],
            [
             0.3333333333333333,
             "#9c179e"
            ],
            [
             0.4444444444444444,
             "#bd3786"
            ],
            [
             0.5555555555555556,
             "#d8576b"
            ],
            [
             0.6666666666666666,
             "#ed7953"
            ],
            [
             0.7777777777777778,
             "#fb9f3a"
            ],
            [
             0.8888888888888888,
             "#fdca26"
            ],
            [
             1,
             "#f0f921"
            ]
           ]
          },
          "colorway": [
           "#636efa",
           "#EF553B",
           "#00cc96",
           "#ab63fa",
           "#FFA15A",
           "#19d3f3",
           "#FF6692",
           "#B6E880",
           "#FF97FF",
           "#FECB52"
          ],
          "font": {
           "color": "#2a3f5f"
          },
          "geo": {
           "bgcolor": "white",
           "lakecolor": "white",
           "landcolor": "#E5ECF6",
           "showlakes": true,
           "showland": true,
           "subunitcolor": "white"
          },
          "hoverlabel": {
           "align": "left"
          },
          "hovermode": "closest",
          "mapbox": {
           "style": "light"
          },
          "paper_bgcolor": "white",
          "plot_bgcolor": "#E5ECF6",
          "polar": {
           "angularaxis": {
            "gridcolor": "white",
            "linecolor": "white",
            "ticks": ""
           },
           "bgcolor": "#E5ECF6",
           "radialaxis": {
            "gridcolor": "white",
            "linecolor": "white",
            "ticks": ""
           }
          },
          "scene": {
           "xaxis": {
            "backgroundcolor": "#E5ECF6",
            "gridcolor": "white",
            "gridwidth": 2,
            "linecolor": "white",
            "showbackground": true,
            "ticks": "",
            "zerolinecolor": "white"
           },
           "yaxis": {
            "backgroundcolor": "#E5ECF6",
            "gridcolor": "white",
            "gridwidth": 2,
            "linecolor": "white",
            "showbackground": true,
            "ticks": "",
            "zerolinecolor": "white"
           },
           "zaxis": {
            "backgroundcolor": "#E5ECF6",
            "gridcolor": "white",
            "gridwidth": 2,
            "linecolor": "white",
            "showbackground": true,
            "ticks": "",
            "zerolinecolor": "white"
           }
          },
          "shapedefaults": {
           "line": {
            "color": "#2a3f5f"
           }
          },
          "ternary": {
           "aaxis": {
            "gridcolor": "white",
            "linecolor": "white",
            "ticks": ""
           },
           "baxis": {
            "gridcolor": "white",
            "linecolor": "white",
            "ticks": ""
           },
           "bgcolor": "#E5ECF6",
           "caxis": {
            "gridcolor": "white",
            "linecolor": "white",
            "ticks": ""
           }
          },
          "title": {
           "x": 0.05
          },
          "xaxis": {
           "automargin": true,
           "gridcolor": "white",
           "linecolor": "white",
           "ticks": "",
           "title": {
            "standoff": 15
           },
           "zerolinecolor": "white",
           "zerolinewidth": 2
          },
          "yaxis": {
           "automargin": true,
           "gridcolor": "white",
           "linecolor": "white",
           "ticks": "",
           "title": {
            "standoff": 15
           },
           "zerolinecolor": "white",
           "zerolinewidth": 2
          }
         }
        },
        "xaxis": {
         "anchor": "y",
         "domain": [
          0,
          1
         ],
         "title": {
          "text": "x"
         }
        },
        "yaxis": {
         "anchor": "x",
         "domain": [
          0,
          1
         ],
         "title": {
          "text": "y"
         }
        }
       }
      }
     },
     "metadata": {},
     "output_type": "display_data"
    }
   ],
   "source": [
    "# Graficar los embedddings en 2D\n",
    "\n",
    "vecs, labels = reduce_dimensions(w2v_model)\n",
    "\n",
    "MAX_WORDS=labels.shape[0]\n",
    "fig = px.scatter(x=vecs[:MAX_WORDS,0], y=vecs[:MAX_WORDS,1], text=labels[:MAX_WORDS])\n",
    "fig.show()#renderer=\"colab\") # esto para plotly en colab"
   ]
  },
  {
   "cell_type": "code",
   "execution_count": 178,
   "metadata": {},
   "outputs": [
    {
     "data": {
      "application/vnd.plotly.v1+json": {
       "config": {
        "plotlyServerURL": "https://plot.ly"
       },
       "data": [
        {
         "hovertemplate": "x=%{x}<br>y=%{y}<br>z=%{z}<br>text=%{text}<extra></extra>",
         "legendgroup": "",
         "marker": {
          "color": "#636efa",
          "size": 2,
          "symbol": "circle"
         },
         "mode": "markers+text",
         "name": "",
         "scene": "scene",
         "showlegend": false,
         "text": [
          "quiero",
          "llorona",
          "amor",
          "si",
          "ver",
          "corazón",
          "uh",
          "oh",
          "solo",
          "siempre",
          "ay",
          "quererme",
          "ser",
          "nunca",
          "día",
          "aquí",
          "noche",
          "cada",
          "hu",
          "beso",
          "acabó",
          "cielo",
          "campo",
          "sabes",
          "cómo",
          "¿para",
          "gusta",
          "tierra",
          "flores",
          "tiempo",
          "veracruzana",
          "vida",
          "amores",
          "regalarte",
          "largo",
          "prohibido",
          "tan",
          "fugitiva",
          "dolor",
          "alma",
          "da",
          "volver",
          "pasa",
          "construimos",
          "sentir",
          "vayas",
          "sensación",
          "inocencia",
          "aire",
          "respiro",
          "piel",
          "viento",
          "hace",
          "estrellas",
          "penas",
          "sigo",
          "camino",
          "voy",
          "bajo",
          "verde",
          "cuerpo",
          "santo",
          "poder",
          "siguiente",
          "infantil",
          "aunque",
          "así",
          "incondicional",
          "cantar",
          "dentro",
          "dueños",
          "aprendí",
          "sueños",
          "busco",
          "quedo",
          "toda",
          "rincón",
          "criatura",
          "decirte",
          "creas",
          "quieres",
          "remedio",
          "malquerida",
          "mirar",
          "ouh",
          "sé",
          "llorar",
          "quisiera",
          "caminar",
          "melodías",
          "quede",
          "enseñaste",
          "suficiente",
          "tarde",
          "nadie",
          "negro",
          "¡ay",
          "saber",
          "querer",
          "ojos",
          "eh",
          "llaman",
          "pasado",
          "casa",
          "mano",
          "falta",
          "todas",
          "azul",
          "poniendo",
          "infinito",
          "sufrir",
          "continuar",
          "existe",
          "pierda",
          "quédate",
          "cosas",
          "cristo",
          "terminó",
          "historia",
          "besos",
          "muera",
          "juramento",
          "momento",
          "ando",
          "2000",
          "abre",
          "mundo",
          "vas",
          "café",
          "ayudarte",
          "dio",
          "miran",
          "vive",
          "hecho",
          "haberme",
          "corresponderte",
          "valiente",
          "pa",
          "detener",
          "feliz",
          "imaginé",
          "luna",
          "manera",
          "llegó",
          "mujer",
          "palabras",
          "loco",
          "reloj",
          "aquella",
          "mar",
          "caña",
          "pecho",
          "tápame",
          "aventura",
          "color",
          "flor",
          "volverte",
          "comentar",
          "detengas",
          "pueda",
          "voz",
          "¿qué",
          "lleva",
          "rezo",
          "canción",
          "jardín",
          "estalla",
          "llorando",
          "ves",
          "bien",
          "final",
          "gris",
          "arena",
          "cambiar",
          "abrazo",
          "sabe",
          "perdimos",
          "va",
          "mirada",
          "mañana",
          "mire",
          "quería",
          "nombre",
          "cuáles",
          "paisajes",
          "quedarme",
          "encontrar",
          "duele",
          "finalmente",
          "locos",
          "vuelva",
          "hacer",
          "noches",
          "bese",
          "divinos",
          "labios",
          "atrapándome",
          "sigue",
          "inconsciencia",
          "escapó",
          "papel",
          "extraño",
          "junto",
          "caminos",
          "gira",
          "conmigo"
         ],
         "type": "scatter3d",
         "x": [
          -52.39440155029297,
          -52.979705810546875,
          -42.93212890625,
          -70.84013366699219,
          -57.68527603149414,
          -25.00348472595215,
          6.012699127197266,
          9.498011589050293,
          -40.14451599121094,
          -54.227928161621094,
          22.373992919921875,
          -30.576677322387695,
          -35.26375961303711,
          -44.36355209350586,
          -56.911128997802734,
          -39.66848373413086,
          -18.32563591003418,
          -13.679895401000977,
          11.069561958312988,
          -65.42720031738281,
          -93.8637924194336,
          -9.314582824707031,
          -9.913016319274902,
          -15.449934005737305,
          -58.870262145996094,
          -76.67626953125,
          -29.163007736206055,
          27.66934585571289,
          24.08648109436035,
          -23.110593795776367,
          30.653202056884766,
          -57.1673698425293,
          2.781505823135376,
          63.80255889892578,
          -56.58830261230469,
          -32.71046829223633,
          61.21067428588867,
          -69.89636993408203,
          -13.424853324890137,
          91.29940795898438,
          -53.026885986328125,
          -53.41925811767578,
          11.634149551391602,
          -6.583786487579346,
          -32.23887634277344,
          -51.65611267089844,
          -64.76914978027344,
          -92.38667297363281,
          -18.401981353759766,
          -11.369665145874023,
          4.813945770263672,
          4.562965393066406,
          -86.33061981201172,
          -26.658973693847656,
          51.511192321777344,
          34.634368896484375,
          -54.75203323364258,
          -56.70053482055664,
          -1.5710608959197998,
          20.05242919921875,
          -10.24176025390625,
          -1.946998953819275,
          -4.147736072540283,
          15.5241117477417,
          -86.92522430419922,
          3.9720687866210938,
          21.68739891052246,
          67.13459014892578,
          -6.833338260650635,
          68.44312286376953,
          -40.579368591308594,
          44.5878791809082,
          40.39480209350586,
          36.42729949951172,
          -47.75920104980469,
          -7.804076671600342,
          -66.94046783447266,
          -81.65485382080078,
          29.740995407104492,
          53.34244918823242,
          28.989315032958984,
          49.0871696472168,
          24.30919647216797,
          38.28105545043945,
          17.35727882385254,
          50.71064376831055,
          -43.18808364868164,
          -38.55976104736328,
          4.303845405578613,
          -9.133943557739258,
          0.7983678579330444,
          -22.862709045410156,
          21.49534797668457,
          -28.184301376342773,
          81.12986755371094,
          31.967437744140625,
          -39.595924377441406,
          -36.886409759521484,
          55.258262634277344,
          -23.329151153564453,
          -91.75060272216797,
          7.746636867523193,
          10.795977592468262,
          -22.701875686645508,
          -8.803061485290527,
          -77.66329956054688,
          28.767715454101562,
          57.22877502441406,
          -8.953638076782227,
          -36.265228271484375,
          -87.75325012207031,
          -59.048770904541016,
          -35.1428108215332,
          24.96101188659668,
          -52.66905975341797,
          66.778564453125,
          35.2802734375,
          -42.47677993774414,
          -30.55025863647461,
          42.151222229003906,
          -4.12662935256958,
          11.110394477844238,
          5.32207727432251,
          -9.189497947692871,
          80.47248077392578,
          4.284242630004883,
          -30.494632720947266,
          81.30175018310547,
          88.32035827636719,
          -49.79420471191406,
          59.48760986328125,
          101.4872055053711,
          -18.496723175048828,
          -41.567020416259766,
          -41.73770523071289,
          -38.262210845947266,
          -63.021358489990234,
          55.90459060668945,
          69.07356262207031,
          -39.62942886352539,
          71.46660614013672,
          33.60902786254883,
          16.084577560424805,
          -40.81974411010742,
          11.074444770812988,
          92.0939712524414,
          28.366147994995117,
          58.14638900756836,
          -8.845669746398926,
          55.28282165527344,
          70.95939636230469,
          74.40169525146484,
          104.41461944580078,
          -19.924646377563477,
          -65.73641967773438,
          -65.99868774414062,
          104.6811752319336,
          -79.2520523071289,
          83.56803894042969,
          -71.63905334472656,
          52.43021011352539,
          38.82979202270508,
          51.68352508544922,
          22.670433044433594,
          5.856836318969727,
          -57.028770446777344,
          63.58485412597656,
          42.261959075927734,
          -19.469154357910156,
          13.749767303466797,
          82.79618835449219,
          88.8759765625,
          28.896642684936523,
          -64.91561126708984,
          17.157304763793945,
          75.49231719970703,
          -21.594560623168945,
          92.20233154296875,
          98.87301635742188,
          48.29882049560547,
          38.185028076171875,
          61.72355270385742,
          71.38542175292969,
          43.66744613647461,
          17.716224670410156,
          -31.766340255737305,
          20.278017044067383,
          -29.721303939819336,
          7.874573707580566,
          -21.864295959472656,
          -42.97016143798828,
          -39.15217208862305,
          75.56090545654297,
          -41.48225021362305,
          -30.154781341552734,
          -33.65703582763672,
          -77.01242065429688,
          -66.75312042236328,
          -72.00830078125,
          -60.485233306884766,
          99.70838165283203,
          18.007770538330078,
          61.90657424926758,
          92.84931182861328,
          -2.6392462253570557,
          40.35232162475586
         ],
         "y": [
          8.851652145385742,
          -19.894777297973633,
          20.11863899230957,
          11.28282642364502,
          2.54292631149292,
          33.26596450805664,
          -10.50037670135498,
          -40.423370361328125,
          -1.4113060235977173,
          -30.76344871520996,
          -13.868552207946777,
          39.91596603393555,
          -2.7071189880371094,
          -2.0165021419525146,
          9.346009254455566,
          -28.97456169128418,
          6.633124828338623,
          -7.6656599044799805,
          12.413798332214355,
          40.92804718017578,
          14.676392555236816,
          3.090681552886963,
          -12.62301254272461,
          31.457927703857422,
          16.071531295776367,
          2.530339479446411,
          27.094131469726562,
          30.205780029296875,
          -8.640673637390137,
          -8.932055473327637,
          -31.977645874023438,
          -3.229222536087036,
          9.605358123779297,
          -29.309341430664062,
          37.643978118896484,
          -29.129533767700195,
          -10.736494064331055,
          36.11959457397461,
          19.52350425720215,
          4.594325542449951,
          15.12973690032959,
          23.233787536621094,
          45.62727355957031,
          -9.133305549621582,
          -11.846460342407227,
          -24.798341751098633,
          49.27034378051758,
          22.428199768066406,
          -26.773412704467773,
          -20.50497055053711,
          -3.9472901821136475,
          3.933445453643799,
          8.264975547790527,
          -16.499210357666016,
          35.42887878417969,
          -2.484992265701294,
          1.1904641389846802,
          1.8080238103866577,
          9.75097942352295,
          -64.55573272705078,
          -26.814743041992188,
          34.4939079284668,
          16.980484008789062,
          43.94932556152344,
          26.04225730895996,
          -48.946922302246094,
          10.731017112731934,
          -4.265156269073486,
          -13.764059066772461,
          6.61733865737915,
          11.444967269897461,
          -5.055233955383301,
          19.202444076538086,
          1.5635162591934204,
          7.581026077270508,
          2.06839656829834,
          29.380996704101562,
          16.255834579467773,
          30.081205368041992,
          -0.8868190050125122,
          -37.83262252807617,
          -2.1434531211853027,
          -27.787811279296875,
          -5.604555606842041,
          -34.969295501708984,
          8.066326141357422,
          25.161550521850586,
          -13.982929229736328,
          20.312911987304688,
          33.93370056152344,
          3.5251758098602295,
          -0.7074252367019653,
          23.915515899658203,
          -29.333106994628906,
          2.865312337875366,
          8.448843002319336,
          -29.61397933959961,
          2.6816272735595703,
          -16.404211044311523,
          -21.066741943359375,
          9.294466972351074,
          -26.538917541503906,
          1.7504725456237793,
          -11.064541816711426,
          34.93456268310547,
          -2.309763193130493,
          9.457212448120117,
          -0.9871425628662109,
          -33.481239318847656,
          -21.447641372680664,
          -4.63319206237793,
          -9.636711120605469,
          46.666996002197266,
          -33.399810791015625,
          -38.90449523925781,
          20.678665161132812,
          -16.145952224731445,
          51.54803466796875,
          54.22621536254883,
          -21.218990325927734,
          4.7693376541137695,
          29.377689361572266,
          -24.085229873657227,
          -21.69655418395996,
          -0.41093021631240845,
          -16.922218322753906,
          7.910976409912109,
          -0.5959123373031616,
          -8.338624954223633,
          -12.802425384521484,
          -7.075905799865723,
          -3.350590705871582,
          14.978866577148438,
          37.221683502197266,
          24.416017532348633,
          27.143077850341797,
          -12.705276489257812,
          -38.1268310546875,
          -25.926021575927734,
          -19.61181640625,
          -24.668563842773438,
          9.540670394897461,
          15.915367126464844,
          -19.920818328857422,
          -14.292394638061523,
          -21.539817810058594,
          -1.1823067665100098,
          -30.94625473022461,
          8.236336708068848,
          15.04400634765625,
          -9.330244064331055,
          15.461451530456543,
          -5.362203121185303,
          -28.608013153076172,
          -11.231596946716309,
          -5.4128828048706055,
          14.183284759521484,
          -13.647953987121582,
          17.127811431884766,
          -24.532926559448242,
          5.905694007873535,
          -28.634796142578125,
          -26.656965255737305,
          2.7120254039764404,
          -5.910173416137695,
          -14.900096893310547,
          25.027502059936523,
          20.433502197265625,
          -35.73521041870117,
          19.184398651123047,
          -17.561216354370117,
          -9.768088340759277,
          -7.279836654663086,
          0.2321883738040924,
          -14.581868171691895,
          12.791327476501465,
          7.992230415344238,
          -5.956831932067871,
          8.94638729095459,
          -16.45465087890625,
          -6.049898624420166,
          0.6450262069702148,
          -1.774092674255371,
          -5.7000508308410645,
          -28.940427780151367,
          -44.50537872314453,
          6.916881561279297,
          -0.6345757246017456,
          -5.448806285858154,
          23.689409255981445,
          -8.437524795532227,
          3.8650591373443604,
          -14.925586700439453,
          3.4906368255615234,
          -1.2136521339416504,
          10.716649055480957,
          33.79679489135742,
          32.03782272338867,
          20.984718322753906,
          38.7951774597168,
          -18.27754783630371,
          -9.305523872375488,
          -15.751361846923828,
          9.387035369873047,
          -47.16144943237305,
          18.363313674926758
         ],
         "z": [
          -33.23078918457031,
          -17.956228256225586,
          -32.66926193237305,
          -37.58904266357422,
          9.060261726379395,
          -30.17111587524414,
          -46.0877571105957,
          -35.483154296875,
          -28.865083694458008,
          8.348549842834473,
          23.96912384033203,
          -41.44306182861328,
          -14.645651817321777,
          -1.6316263675689697,
          -3.6800708770751953,
          -6.013193607330322,
          1.3105111122131348,
          0.43130287528038025,
          43.34590148925781,
          -22.737199783325195,
          -11.018036842346191,
          -13.953554153442383,
          19.05997085571289,
          -38.88422393798828,
          -22.070253372192383,
          -30.164934158325195,
          -39.91867446899414,
          27.931169509887695,
          3.939154624938965,
          13.121764183044434,
          43.7767219543457,
          -17.455659866333008,
          -18.409250259399414,
          -22.691362380981445,
          -33.563411712646484,
          -27.36884117126465,
          -5.658647060394287,
          -34.263397216796875,
          -6.728861331939697,
          28.196945190429688,
          -47.372222900390625,
          -5.608509063720703,
          -10.882006645202637,
          37.8494987487793,
          -2.812530517578125,
          19.023290634155273,
          -32.911346435546875,
          -0.11190187186002731,
          -48.497798919677734,
          -44.31543731689453,
          18.54848289489746,
          32.22760772705078,
          -37.537017822265625,
          26.042491912841797,
          3.179384708404541,
          -22.915117263793945,
          -44.366825103759766,
          44.99911880493164,
          24.27691650390625,
          113.80094909667969,
          24.966768264770508,
          4.986846923828125,
          11.408175468444824,
          -20.68820571899414,
          -11.326133728027344,
          0.8143928050994873,
          3.768984079360962,
          -18.667465209960938,
          -9.805573463439941,
          15.528989791870117,
          -5.977298259735107,
          -9.758301734924316,
          21.373674392700195,
          0.12202344089746475,
          -15.39903736114502,
          11.699128150939941,
          25.060941696166992,
          -5.285584926605225,
          9.642271995544434,
          13.109519958496094,
          17.4108829498291,
          -27.47511863708496,
          -16.354042053222656,
          16.882177352905273,
          -38.47889709472656,
          30.012723922729492,
          14.805559158325195,
          -22.355117797851562,
          -3.6248114109039307,
          20.3308162689209,
          -47.009639739990234,
          31.38330841064453,
          -6.301229476928711,
          -6.568456649780273,
          5.412989139556885,
          11.018719673156738,
          14.092535972595215,
          28.231948852539062,
          10.285141944885254,
          5.860968589782715,
          0.5880879759788513,
          -10.74575424194336,
          9.101961135864258,
          -13.6805419921875,
          -11.763557434082031,
          -42.33592224121094,
          33.89967346191406,
          39.21847915649414,
          -7.7864670753479,
          35.8875732421875,
          -33.42658996582031,
          -32.309669494628906,
          -5.389507293701172,
          -1.320654034614563,
          -0.39782702922821045,
          22.961801528930664,
          0.7561326622962952,
          -13.740899085998535,
          -12.589919090270996,
          -23.99785041809082,
          -2.2932019233703613,
          28.411638259887695,
          26.355756759643555,
          3.907200574874878,
          19.291229248046875,
          14.105164527893066,
          -17.187908172607422,
          40.14714050292969,
          -3.8036038875579834,
          -47.36137008666992,
          22.21253776550293,
          2.8659026622772217,
          32.369712829589844,
          16.93171501159668,
          26.31373405456543,
          -20.31956672668457,
          16.075666427612305,
          22.449119567871094,
          14.158117294311523,
          6.120674133300781,
          -3.076441526412964,
          -9.704023361206055,
          -27.19051742553711,
          -39.49001693725586,
          -25.846023559570312,
          22.45322036743164,
          21.81713104248047,
          31.586448669433594,
          -29.133960723876953,
          12.019245147705078,
          10.097807884216309,
          0.34823399782180786,
          24.61663818359375,
          -26.3920841217041,
          -12.747488021850586,
          -1.3216309547424316,
          26.316192626953125,
          0.6268770694732666,
          16.407501220703125,
          -11.020895004272461,
          -10.525997161865234,
          14.988029479980469,
          -2.4687235355377197,
          -27.73150062561035,
          -16.731416702270508,
          -3.521937131881714,
          -5.103766441345215,
          -14.924007415771484,
          13.97624397277832,
          17.571210861206055,
          8.92874526977539,
          29.963516235351562,
          -14.401655197143555,
          39.80059814453125,
          -7.429003715515137,
          31.945619583129883,
          17.345088958740234,
          13.60711669921875,
          13.570083618164062,
          26.88907814025879,
          36.00959014892578,
          0.45987218618392944,
          27.79493522644043,
          47.53641891479492,
          7.304913520812988,
          -5.638094902038574,
          -11.812466621398926,
          -36.35431671142578,
          -1.6259737014770508,
          8.125482559204102,
          13.899239540100098,
          12.535356521606445,
          23.673294067382812,
          -62.452030181884766,
          -61.43696594238281,
          -58.77362060546875,
          19.15680503845215,
          11.558578491210938,
          18.14748191833496,
          -44.56142807006836,
          9.450114250183105,
          40.467220306396484,
          39.561214447021484,
          -0.10771051794290543,
          15.059039115905762,
          0.8767613768577576
         ]
        }
       ],
       "layout": {
        "legend": {
         "tracegroupgap": 0
        },
        "margin": {
         "t": 60
        },
        "scene": {
         "domain": {
          "x": [
           0,
           1
          ],
          "y": [
           0,
           1
          ]
         },
         "xaxis": {
          "title": {
           "text": "x"
          }
         },
         "yaxis": {
          "title": {
           "text": "y"
          }
         },
         "zaxis": {
          "title": {
           "text": "z"
          }
         }
        },
        "template": {
         "data": {
          "bar": [
           {
            "error_x": {
             "color": "#2a3f5f"
            },
            "error_y": {
             "color": "#2a3f5f"
            },
            "marker": {
             "line": {
              "color": "#E5ECF6",
              "width": 0.5
             },
             "pattern": {
              "fillmode": "overlay",
              "size": 10,
              "solidity": 0.2
             }
            },
            "type": "bar"
           }
          ],
          "barpolar": [
           {
            "marker": {
             "line": {
              "color": "#E5ECF6",
              "width": 0.5
             },
             "pattern": {
              "fillmode": "overlay",
              "size": 10,
              "solidity": 0.2
             }
            },
            "type": "barpolar"
           }
          ],
          "carpet": [
           {
            "aaxis": {
             "endlinecolor": "#2a3f5f",
             "gridcolor": "white",
             "linecolor": "white",
             "minorgridcolor": "white",
             "startlinecolor": "#2a3f5f"
            },
            "baxis": {
             "endlinecolor": "#2a3f5f",
             "gridcolor": "white",
             "linecolor": "white",
             "minorgridcolor": "white",
             "startlinecolor": "#2a3f5f"
            },
            "type": "carpet"
           }
          ],
          "choropleth": [
           {
            "colorbar": {
             "outlinewidth": 0,
             "ticks": ""
            },
            "type": "choropleth"
           }
          ],
          "contour": [
           {
            "colorbar": {
             "outlinewidth": 0,
             "ticks": ""
            },
            "colorscale": [
             [
              0,
              "#0d0887"
             ],
             [
              0.1111111111111111,
              "#46039f"
             ],
             [
              0.2222222222222222,
              "#7201a8"
             ],
             [
              0.3333333333333333,
              "#9c179e"
             ],
             [
              0.4444444444444444,
              "#bd3786"
             ],
             [
              0.5555555555555556,
              "#d8576b"
             ],
             [
              0.6666666666666666,
              "#ed7953"
             ],
             [
              0.7777777777777778,
              "#fb9f3a"
             ],
             [
              0.8888888888888888,
              "#fdca26"
             ],
             [
              1,
              "#f0f921"
             ]
            ],
            "type": "contour"
           }
          ],
          "contourcarpet": [
           {
            "colorbar": {
             "outlinewidth": 0,
             "ticks": ""
            },
            "type": "contourcarpet"
           }
          ],
          "heatmap": [
           {
            "colorbar": {
             "outlinewidth": 0,
             "ticks": ""
            },
            "colorscale": [
             [
              0,
              "#0d0887"
             ],
             [
              0.1111111111111111,
              "#46039f"
             ],
             [
              0.2222222222222222,
              "#7201a8"
             ],
             [
              0.3333333333333333,
              "#9c179e"
             ],
             [
              0.4444444444444444,
              "#bd3786"
             ],
             [
              0.5555555555555556,
              "#d8576b"
             ],
             [
              0.6666666666666666,
              "#ed7953"
             ],
             [
              0.7777777777777778,
              "#fb9f3a"
             ],
             [
              0.8888888888888888,
              "#fdca26"
             ],
             [
              1,
              "#f0f921"
             ]
            ],
            "type": "heatmap"
           }
          ],
          "heatmapgl": [
           {
            "colorbar": {
             "outlinewidth": 0,
             "ticks": ""
            },
            "colorscale": [
             [
              0,
              "#0d0887"
             ],
             [
              0.1111111111111111,
              "#46039f"
             ],
             [
              0.2222222222222222,
              "#7201a8"
             ],
             [
              0.3333333333333333,
              "#9c179e"
             ],
             [
              0.4444444444444444,
              "#bd3786"
             ],
             [
              0.5555555555555556,
              "#d8576b"
             ],
             [
              0.6666666666666666,
              "#ed7953"
             ],
             [
              0.7777777777777778,
              "#fb9f3a"
             ],
             [
              0.8888888888888888,
              "#fdca26"
             ],
             [
              1,
              "#f0f921"
             ]
            ],
            "type": "heatmapgl"
           }
          ],
          "histogram": [
           {
            "marker": {
             "pattern": {
              "fillmode": "overlay",
              "size": 10,
              "solidity": 0.2
             }
            },
            "type": "histogram"
           }
          ],
          "histogram2d": [
           {
            "colorbar": {
             "outlinewidth": 0,
             "ticks": ""
            },
            "colorscale": [
             [
              0,
              "#0d0887"
             ],
             [
              0.1111111111111111,
              "#46039f"
             ],
             [
              0.2222222222222222,
              "#7201a8"
             ],
             [
              0.3333333333333333,
              "#9c179e"
             ],
             [
              0.4444444444444444,
              "#bd3786"
             ],
             [
              0.5555555555555556,
              "#d8576b"
             ],
             [
              0.6666666666666666,
              "#ed7953"
             ],
             [
              0.7777777777777778,
              "#fb9f3a"
             ],
             [
              0.8888888888888888,
              "#fdca26"
             ],
             [
              1,
              "#f0f921"
             ]
            ],
            "type": "histogram2d"
           }
          ],
          "histogram2dcontour": [
           {
            "colorbar": {
             "outlinewidth": 0,
             "ticks": ""
            },
            "colorscale": [
             [
              0,
              "#0d0887"
             ],
             [
              0.1111111111111111,
              "#46039f"
             ],
             [
              0.2222222222222222,
              "#7201a8"
             ],
             [
              0.3333333333333333,
              "#9c179e"
             ],
             [
              0.4444444444444444,
              "#bd3786"
             ],
             [
              0.5555555555555556,
              "#d8576b"
             ],
             [
              0.6666666666666666,
              "#ed7953"
             ],
             [
              0.7777777777777778,
              "#fb9f3a"
             ],
             [
              0.8888888888888888,
              "#fdca26"
             ],
             [
              1,
              "#f0f921"
             ]
            ],
            "type": "histogram2dcontour"
           }
          ],
          "mesh3d": [
           {
            "colorbar": {
             "outlinewidth": 0,
             "ticks": ""
            },
            "type": "mesh3d"
           }
          ],
          "parcoords": [
           {
            "line": {
             "colorbar": {
              "outlinewidth": 0,
              "ticks": ""
             }
            },
            "type": "parcoords"
           }
          ],
          "pie": [
           {
            "automargin": true,
            "type": "pie"
           }
          ],
          "scatter": [
           {
            "fillpattern": {
             "fillmode": "overlay",
             "size": 10,
             "solidity": 0.2
            },
            "type": "scatter"
           }
          ],
          "scatter3d": [
           {
            "line": {
             "colorbar": {
              "outlinewidth": 0,
              "ticks": ""
             }
            },
            "marker": {
             "colorbar": {
              "outlinewidth": 0,
              "ticks": ""
             }
            },
            "type": "scatter3d"
           }
          ],
          "scattercarpet": [
           {
            "marker": {
             "colorbar": {
              "outlinewidth": 0,
              "ticks": ""
             }
            },
            "type": "scattercarpet"
           }
          ],
          "scattergeo": [
           {
            "marker": {
             "colorbar": {
              "outlinewidth": 0,
              "ticks": ""
             }
            },
            "type": "scattergeo"
           }
          ],
          "scattergl": [
           {
            "marker": {
             "colorbar": {
              "outlinewidth": 0,
              "ticks": ""
             }
            },
            "type": "scattergl"
           }
          ],
          "scattermapbox": [
           {
            "marker": {
             "colorbar": {
              "outlinewidth": 0,
              "ticks": ""
             }
            },
            "type": "scattermapbox"
           }
          ],
          "scatterpolar": [
           {
            "marker": {
             "colorbar": {
              "outlinewidth": 0,
              "ticks": ""
             }
            },
            "type": "scatterpolar"
           }
          ],
          "scatterpolargl": [
           {
            "marker": {
             "colorbar": {
              "outlinewidth": 0,
              "ticks": ""
             }
            },
            "type": "scatterpolargl"
           }
          ],
          "scatterternary": [
           {
            "marker": {
             "colorbar": {
              "outlinewidth": 0,
              "ticks": ""
             }
            },
            "type": "scatterternary"
           }
          ],
          "surface": [
           {
            "colorbar": {
             "outlinewidth": 0,
             "ticks": ""
            },
            "colorscale": [
             [
              0,
              "#0d0887"
             ],
             [
              0.1111111111111111,
              "#46039f"
             ],
             [
              0.2222222222222222,
              "#7201a8"
             ],
             [
              0.3333333333333333,
              "#9c179e"
             ],
             [
              0.4444444444444444,
              "#bd3786"
             ],
             [
              0.5555555555555556,
              "#d8576b"
             ],
             [
              0.6666666666666666,
              "#ed7953"
             ],
             [
              0.7777777777777778,
              "#fb9f3a"
             ],
             [
              0.8888888888888888,
              "#fdca26"
             ],
             [
              1,
              "#f0f921"
             ]
            ],
            "type": "surface"
           }
          ],
          "table": [
           {
            "cells": {
             "fill": {
              "color": "#EBF0F8"
             },
             "line": {
              "color": "white"
             }
            },
            "header": {
             "fill": {
              "color": "#C8D4E3"
             },
             "line": {
              "color": "white"
             }
            },
            "type": "table"
           }
          ]
         },
         "layout": {
          "annotationdefaults": {
           "arrowcolor": "#2a3f5f",
           "arrowhead": 0,
           "arrowwidth": 1
          },
          "autotypenumbers": "strict",
          "coloraxis": {
           "colorbar": {
            "outlinewidth": 0,
            "ticks": ""
           }
          },
          "colorscale": {
           "diverging": [
            [
             0,
             "#8e0152"
            ],
            [
             0.1,
             "#c51b7d"
            ],
            [
             0.2,
             "#de77ae"
            ],
            [
             0.3,
             "#f1b6da"
            ],
            [
             0.4,
             "#fde0ef"
            ],
            [
             0.5,
             "#f7f7f7"
            ],
            [
             0.6,
             "#e6f5d0"
            ],
            [
             0.7,
             "#b8e186"
            ],
            [
             0.8,
             "#7fbc41"
            ],
            [
             0.9,
             "#4d9221"
            ],
            [
             1,
             "#276419"
            ]
           ],
           "sequential": [
            [
             0,
             "#0d0887"
            ],
            [
             0.1111111111111111,
             "#46039f"
            ],
            [
             0.2222222222222222,
             "#7201a8"
            ],
            [
             0.3333333333333333,
             "#9c179e"
            ],
            [
             0.4444444444444444,
             "#bd3786"
            ],
            [
             0.5555555555555556,
             "#d8576b"
            ],
            [
             0.6666666666666666,
             "#ed7953"
            ],
            [
             0.7777777777777778,
             "#fb9f3a"
            ],
            [
             0.8888888888888888,
             "#fdca26"
            ],
            [
             1,
             "#f0f921"
            ]
           ],
           "sequentialminus": [
            [
             0,
             "#0d0887"
            ],
            [
             0.1111111111111111,
             "#46039f"
            ],
            [
             0.2222222222222222,
             "#7201a8"
            ],
            [
             0.3333333333333333,
             "#9c179e"
            ],
            [
             0.4444444444444444,
             "#bd3786"
            ],
            [
             0.5555555555555556,
             "#d8576b"
            ],
            [
             0.6666666666666666,
             "#ed7953"
            ],
            [
             0.7777777777777778,
             "#fb9f3a"
            ],
            [
             0.8888888888888888,
             "#fdca26"
            ],
            [
             1,
             "#f0f921"
            ]
           ]
          },
          "colorway": [
           "#636efa",
           "#EF553B",
           "#00cc96",
           "#ab63fa",
           "#FFA15A",
           "#19d3f3",
           "#FF6692",
           "#B6E880",
           "#FF97FF",
           "#FECB52"
          ],
          "font": {
           "color": "#2a3f5f"
          },
          "geo": {
           "bgcolor": "white",
           "lakecolor": "white",
           "landcolor": "#E5ECF6",
           "showlakes": true,
           "showland": true,
           "subunitcolor": "white"
          },
          "hoverlabel": {
           "align": "left"
          },
          "hovermode": "closest",
          "mapbox": {
           "style": "light"
          },
          "paper_bgcolor": "white",
          "plot_bgcolor": "#E5ECF6",
          "polar": {
           "angularaxis": {
            "gridcolor": "white",
            "linecolor": "white",
            "ticks": ""
           },
           "bgcolor": "#E5ECF6",
           "radialaxis": {
            "gridcolor": "white",
            "linecolor": "white",
            "ticks": ""
           }
          },
          "scene": {
           "xaxis": {
            "backgroundcolor": "#E5ECF6",
            "gridcolor": "white",
            "gridwidth": 2,
            "linecolor": "white",
            "showbackground": true,
            "ticks": "",
            "zerolinecolor": "white"
           },
           "yaxis": {
            "backgroundcolor": "#E5ECF6",
            "gridcolor": "white",
            "gridwidth": 2,
            "linecolor": "white",
            "showbackground": true,
            "ticks": "",
            "zerolinecolor": "white"
           },
           "zaxis": {
            "backgroundcolor": "#E5ECF6",
            "gridcolor": "white",
            "gridwidth": 2,
            "linecolor": "white",
            "showbackground": true,
            "ticks": "",
            "zerolinecolor": "white"
           }
          },
          "shapedefaults": {
           "line": {
            "color": "#2a3f5f"
           }
          },
          "ternary": {
           "aaxis": {
            "gridcolor": "white",
            "linecolor": "white",
            "ticks": ""
           },
           "baxis": {
            "gridcolor": "white",
            "linecolor": "white",
            "ticks": ""
           },
           "bgcolor": "#E5ECF6",
           "caxis": {
            "gridcolor": "white",
            "linecolor": "white",
            "ticks": ""
           }
          },
          "title": {
           "x": 0.05
          },
          "xaxis": {
           "automargin": true,
           "gridcolor": "white",
           "linecolor": "white",
           "ticks": "",
           "title": {
            "standoff": 15
           },
           "zerolinecolor": "white",
           "zerolinewidth": 2
          },
          "yaxis": {
           "automargin": true,
           "gridcolor": "white",
           "linecolor": "white",
           "ticks": "",
           "title": {
            "standoff": 15
           },
           "zerolinecolor": "white",
           "zerolinewidth": 2
          }
         }
        }
       }
      }
     },
     "metadata": {},
     "output_type": "display_data"
    }
   ],
   "source": [
    "# Graficar los embedddings en 3D\n",
    "\n",
    "vecs, labels = reduce_dimensions(w2v_model,3)\n",
    "\n",
    "fig = px.scatter_3d(x=vecs[:MAX_WORDS,0], y=vecs[:MAX_WORDS,1], z=vecs[:MAX_WORDS,2],text=labels[:MAX_WORDS])\n",
    "fig.update_traces(marker_size = 2)\n",
    "fig.show()"
   ]
  },
  {
   "cell_type": "markdown",
   "metadata": {},
   "source": [
    "**Ejemplos destacados**"
   ]
  },
  {
   "attachments": {
    "image.png": {
     "image/png": "[encoded data removed]"
    }
   },
   "cell_type": "markdown",
   "metadata": {},
   "source": [
    "* verso: \"La **fugitiva** **sensación** de un **beso** largo que huye\"\n",
    "\n",
    "\n",
    "![image.png](attachment:image.png)"
   ]
  },
  {
   "cell_type": "markdown",
   "metadata": {},
   "source": [
    "* verso: \"En mi **tierra** **veracruzana**\""
   ]
  },
  {
   "attachments": {
    "image.png": {
     "image/png": "[encoded data removed]"
    }
   },
   "cell_type": "markdown",
   "metadata": {},
   "source": [
    "\n",
    "\n",
    "\n",
    "\n",
    "![image.png](attachment:image.png)"
   ]
  },
  {
   "attachments": {
    "image.png": {
     "image/png": "[encoded data removed]"
    }
   },
   "cell_type": "markdown",
   "metadata": {},
   "source": [
    "\n",
    "* verso: \"Soy lo **prohibido**, soy la **aventura** que llegó para ayudarte\"\n",
    "\n",
    "![image.png](attachment:image.png)"
   ]
  }
 ],
 "metadata": {
  "kernelspec": {
   "display_name": ".venv",
   "language": "python",
   "name": "python3"
  },
  "language_info": {
   "codemirror_mode": {
    "name": "ipython",
    "version": 3
   },
   "file_extension": ".py",
   "mimetype": "text/x-python",
   "name": "python",
   "nbconvert_exporter": "python",
   "pygments_lexer": "ipython3",
   "version": "3.8.0"
  }
 },
 "nbformat": 4,
 "nbformat_minor": 2
}
